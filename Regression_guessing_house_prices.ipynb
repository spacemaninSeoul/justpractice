{
  "nbformat": 4,
  "nbformat_minor": 0,
  "metadata": {
    "colab": {
      "name": "Regression_guessing_house_prices.ipynb",
      "provenance": [],
      "toc_visible": true,
      "authorship_tag": "ABX9TyPTFsOapK/r8GAmLXI28Mqx",
      "include_colab_link": true
    },
    "kernelspec": {
      "name": "python3",
      "display_name": "Python 3"
    },
    "language_info": {
      "name": "python"
    }
  },
  "cells": [
    {
      "cell_type": "markdown",
      "metadata": {
        "id": "view-in-github",
        "colab_type": "text"
      },
      "source": [
        "<a href=\"https://colab.research.google.com/github/spacemaninSeoul/justpractice/blob/main/Regression_guessing_house_prices.ipynb\" target=\"_parent\"><img src=\"https://colab.research.google.com/assets/colab-badge.svg\" alt=\"Open In Colab\"/></a>"
      ]
    },
    {
      "cell_type": "markdown",
      "source": [
        "보스턴 주택 가격 데이터셋은 연속적인 값을 예측하는 회귀(regression) 문제이다."
      ],
      "metadata": {
        "id": "8DGXl7UPYCO3"
      }
    },
    {
      "cell_type": "markdown",
      "source": [
        "# 1. 데이터 살펴보기"
      ],
      "metadata": {
        "id": "mMyBmfxqY49N"
      }
    },
    {
      "cell_type": "code",
      "execution_count": 23,
      "metadata": {
        "id": "evJLlzwNX0az"
      },
      "outputs": [],
      "source": [
        "# 보스턴 주택 가격 데이터셋 다운받기\n",
        "from tensorflow.keras.datasets.boston_housing import load_data\n",
        "\n",
        "# 데이터를 다운한다.\n",
        "(x_train, y_train), (x_test, y_test) = load_data(path='boston_housing.npz', test_split=0.2, seed=777)"
      ]
    },
    {
      "cell_type": "code",
      "source": [
        "# 데이터 형태 확인\n",
        "print(x_train.shape, y_train.shape)\n",
        "print(x_test.shape, y_test.shape)"
      ],
      "metadata": {
        "colab": {
          "base_uri": "https://localhost:8080/"
        },
        "id": "Wac5Le_pZOGR",
        "outputId": "7d3ffd3d-64df-4529-db6f-fc54f62adb12"
      },
      "execution_count": 24,
      "outputs": [
        {
          "output_type": "stream",
          "name": "stdout",
          "text": [
            "(404, 13) (404,)\n",
            "(102, 13) (102,)\n"
          ]
        }
      ]
    },
    {
      "cell_type": "code",
      "source": [
        "y_train[:10]"
      ],
      "metadata": {
        "colab": {
          "base_uri": "https://localhost:8080/"
        },
        "id": "dN-VedYrZncI",
        "outputId": "aada2ed1-f31b-487c-ab87-61d49aa63178"
      },
      "execution_count": 25,
      "outputs": [
        {
          "output_type": "execute_result",
          "data": {
            "text/plain": [
              "array([22.5,  8.3, 17.2, 25. , 28.5, 23. , 18.9, 50. , 15.6, 38.7])"
            ]
          },
          "metadata": {},
          "execution_count": 25
        }
      ]
    },
    {
      "cell_type": "markdown",
      "source": [
        "데이터는 13개의 특성이 있고, 레이블은 주택 가격의 중간 가격($1000 단위)을 나타낸다. 이 전에 다루었던 데이터셋처럼 특성의 스케일이 모두 동일하면 좋겠지만, 이번 데이터셋은 그렇지 않다. 예를 들어, 범죄율 같은 특성은 비율을 나타내기에 0~1의 값을 가지지만, 방의 개수 같은 경우는 3~9의 범위를 갖는다. 이러한 스케일의 문제는 신경망의 성능에 큰 영향을 미친다. 따라서 각 데이터 특성이 갖는 범위가 다를 때에는 범위가 동일하도록 조정해야만 한다. 이러한 문제를 해결할 때 대표적으로 사용하는 방법은 표준화(Standardization)를 수행하는 것이다."
      ],
      "metadata": {
        "id": "lXYkWjUFaM1m"
      }
    },
    {
      "cell_type": "markdown",
      "source": [
        "표준화는 각 데이터의 특성에 대해서 평균을 빼고, 표준펹차로 나누어 준다. 이는 특성의 평균을 0으로, 표준편차를 1로 만들어준다."
      ],
      "metadata": {
        "id": "ESZK2eEYa4-A"
      }
    },
    {
      "cell_type": "markdown",
      "source": [
        "![image.png](data:image/png;base64,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)"
      ],
      "metadata": {
        "id": "NTZc1ci_bGmC"
      }
    },
    {
      "cell_type": "code",
      "source": [
        "# 데이터 전처리 및 검증 데이터셋 만들기\n",
        "import numpy as np\n",
        "\n",
        "# 데이터 표준화\n",
        "mean = np.mean(x_train, axis=0)\n",
        "std = np.std(x_train, axis=0)\n",
        "\n",
        "x_train = (x_train - mean) / std\n",
        "x_test = (x_test - mean) / std\n",
        "\n",
        "# 검증 데이터셋을 만든다.\n",
        "from sklearn.model_selection import train_test_split\n",
        "x_train, x_val, y_train, y_val = train_test_split(x_train, y_train, test_size = 0.33, random_state = 777)"
      ],
      "metadata": {
        "id": "3nEp319AZu7i"
      },
      "execution_count": 27,
      "outputs": []
    },
    {
      "cell_type": "markdown",
      "source": [
        "위의 코드에서 주의해야 할 부분은 테스트셋의 전처리 과정에서 별도의 평균과 표준편차를 구하지 않고, 학습 데이터셋에서 얻은 평균과 표준편차를 사용하여 전처리를 진행했다는 점이다."
      ],
      "metadata": {
        "id": "6rr021CjdEsS"
      }
    },
    {
      "cell_type": "markdown",
      "source": [
        "# 2. 모델 구성하기"
      ],
      "metadata": {
        "id": "xoAj_65RdMXP"
      }
    }
  ]
}