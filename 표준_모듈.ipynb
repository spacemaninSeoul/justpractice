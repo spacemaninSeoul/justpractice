{
  "nbformat": 4,
  "nbformat_minor": 0,
  "metadata": {
    "colab": {
      "name": "표준 모듈.ipynb",
      "provenance": [],
      "collapsed_sections": [],
      "mount_file_id": "1MwPQFJ_tRHPnyGPWlkQuN7w5gLZq6sgR",
      "authorship_tag": "ABX9TyNKIbhwq9Ioi96LU3FzbKaw",
      "include_colab_link": true
    },
    "kernelspec": {
      "name": "python3",
      "display_name": "Python 3"
    },
    "language_info": {
      "name": "python"
    }
  },
  "cells": [
    {
      "cell_type": "markdown",
      "metadata": {
        "id": "view-in-github",
        "colab_type": "text"
      },
      "source": [
        "<a href=\"https://colab.research.google.com/github/spacemaninSeoul/justpractice/blob/main/%ED%91%9C%EC%A4%80_%EB%AA%A8%EB%93%88.ipynb\" target=\"_parent\"><img src=\"https://colab.research.google.com/assets/colab-badge.svg\" alt=\"Open In Colab\"/></a>"
      ]
    },
    {
      "cell_type": "code",
      "metadata": {
        "colab": {
          "base_uri": "https://localhost:8080/"
        },
        "id": "RuSNo7BgCQ8U",
        "outputId": "99408d1f-067b-4c5d-c8d1-d3ec2bfb244e"
      },
      "source": [
        "#from 구문\n",
        "#from 모듈 이름 import 가져오고 싶은 변수 또는 함수\n",
        "\n",
        "from math import sin, cos\n",
        "sin(1)"
      ],
      "execution_count": null,
      "outputs": [
        {
          "output_type": "execute_result",
          "data": {
            "text/plain": [
              "0.8414709848078965"
            ]
          },
          "metadata": {
            "tags": []
          },
          "execution_count": 2
        }
      ]
    },
    {
      "cell_type": "code",
      "metadata": {
        "colab": {
          "base_uri": "https://localhost:8080/"
        },
        "id": "YEH8_en-Drm8",
        "outputId": "3b2297fa-1ebf-4e59-8015-6202c3414615"
      },
      "source": [
        "#as 구문\n",
        "#import 모듈 as 사용하고 싶은 식별자\n",
        "import math as m\n",
        "m.sin(1)"
      ],
      "execution_count": null,
      "outputs": [
        {
          "output_type": "execute_result",
          "data": {
            "text/plain": [
              "0.8414709848078965"
            ]
          },
          "metadata": {
            "tags": []
          },
          "execution_count": 3
        }
      ]
    },
    {
      "cell_type": "code",
      "metadata": {
        "id": "iQ4075kdDzMq",
        "colab": {
          "base_uri": "https://localhost:8080/"
        },
        "outputId": "e0ba6911-406a-44c4-eb1c-94f7aeb638dc"
      },
      "source": [
        "#random 모듈\n",
        "import random\n",
        "\n",
        "print(\"# random 모듈\")\n",
        "\n",
        "#random(): 0.0 <= x < 1.0 사이의 float를 리턴합니다.\n",
        "print(\"- random():\", random.random())\n",
        "\n",
        "#uniform(min, max): 지정한 범위 사이의 float를 리턴합니다.\n",
        "print(\"- uniform(10, 20):\", random.uniform(10, 20))\n",
        "\n",
        "#randrange(): 지정한 범위의 int를 리턴합니다.\n",
        "# - randrange(max): 0부터 max 사이의 값을 리턴합니다.\n",
        "# - randrange(min, max): min부터 max 사이의 값을 리턴합니다.\n",
        "print(\"- randrange(10)\", random.randrange(10))\n",
        "\n",
        "#choice(list): 리스트 내부에 있는 요소를 랜덤하게 선택합니다.\n",
        "print(\"- choice([1, 2, 3, 4, 5]):\", random.choice([1, 2, 3, 4, 5]))\n",
        "\n",
        "#shuffle(list): 리스트의 요소를 랜덤하게 섞습니다.\n",
        "print(\"- shuffle([1, 2, 3, 4, 5]):\", random.shuffle([1, 2, 3, 4, 5]))\n",
        "\n",
        "#sample(list, k=<숫자>): 리스트의 요소 중에 k개를 뽑습니다.\n",
        "print(\"- sample([1, 2, 3, 4, 5], k=2):\", random.sample([1, 2, 3, 4, 5], k=2))"
      ],
      "execution_count": 2,
      "outputs": [
        {
          "output_type": "stream",
          "text": [
            "# random 모듈\n",
            "- random(): 0.935401774984207\n",
            "- uniform(10, 20): 15.153257738051169\n",
            "- randrange(10) 9\n",
            "- choice([1, 2, 3, 4, 5]): 3\n",
            "- shuffle([1, 2, 3, 4, 5]): None\n",
            "- sample([1, 2, 3, 4, 5], k=2): [4, 1]\n"
          ],
          "name": "stdout"
        }
      ]
    },
    {
      "cell_type": "code",
      "metadata": {
        "colab": {
          "base_uri": "https://localhost:8080/",
          "height": 274
        },
        "id": "Ub5l7OpEO1fv",
        "outputId": "f9807714-2c99-4040-9701-5e23a6a6eb88"
      },
      "source": [
        "#sys모듈: 시스템과 관련된 정보를 가지고 있는 모듈\n",
        "import sys\n",
        "\n",
        "#명령 매개변수를 출력\n",
        "print(sys.argv)\n",
        "print('---')\n",
        "\n",
        "#컴퓨터 환경과 관련된 정보를 출력\n",
        "print(\"getwindowsversion:()\", sys.getwindowsversion())\n",
        "print(\"---\")\n",
        "print('copyright:', sys.copyright)\n",
        "print('---')\n",
        "print('version:', sys.version)\n",
        "\n",
        "#프로그램을 강제로 종료합니다.\n",
        "sys.exit()"
      ],
      "execution_count": 3,
      "outputs": [
        {
          "output_type": "stream",
          "text": [
            "['/usr/local/lib/python3.7/dist-packages/ipykernel_launcher.py', '-f', '/root/.local/share/jupyter/runtime/kernel-cd262044-047e-49c8-a411-b2920de64e01.json']\n",
            "---\n"
          ],
          "name": "stdout"
        },
        {
          "output_type": "error",
          "ename": "AttributeError",
          "evalue": "ignored",
          "traceback": [
            "\u001b[0;31m---------------------------------------------------------------------------\u001b[0m",
            "\u001b[0;31mAttributeError\u001b[0m                            Traceback (most recent call last)",
            "\u001b[0;32m<ipython-input-3-d4803d6fccad>\u001b[0m in \u001b[0;36m<module>\u001b[0;34m()\u001b[0m\n\u001b[1;32m      7\u001b[0m \u001b[0;34m\u001b[0m\u001b[0m\n\u001b[1;32m      8\u001b[0m \u001b[0;31m#컴퓨터 환경과 관련된 정보를 출력\u001b[0m\u001b[0;34m\u001b[0m\u001b[0;34m\u001b[0m\u001b[0;34m\u001b[0m\u001b[0m\n\u001b[0;32m----> 9\u001b[0;31m \u001b[0mprint\u001b[0m\u001b[0;34m(\u001b[0m\u001b[0;34m\"getwindowsversion:()\"\u001b[0m\u001b[0;34m,\u001b[0m \u001b[0msys\u001b[0m\u001b[0;34m.\u001b[0m\u001b[0mgetwindowsversion\u001b[0m\u001b[0;34m(\u001b[0m\u001b[0;34m)\u001b[0m\u001b[0;34m)\u001b[0m\u001b[0;34m\u001b[0m\u001b[0;34m\u001b[0m\u001b[0m\n\u001b[0m\u001b[1;32m     10\u001b[0m \u001b[0mprint\u001b[0m\u001b[0;34m(\u001b[0m\u001b[0;34m\"---\"\u001b[0m\u001b[0;34m)\u001b[0m\u001b[0;34m\u001b[0m\u001b[0;34m\u001b[0m\u001b[0m\n\u001b[1;32m     11\u001b[0m \u001b[0mprint\u001b[0m\u001b[0;34m(\u001b[0m\u001b[0;34m'copyright:'\u001b[0m\u001b[0;34m,\u001b[0m \u001b[0msys\u001b[0m\u001b[0;34m.\u001b[0m\u001b[0mcopyright\u001b[0m\u001b[0;34m)\u001b[0m\u001b[0;34m\u001b[0m\u001b[0;34m\u001b[0m\u001b[0m\n",
            "\u001b[0;31mAttributeError\u001b[0m: module 'sys' has no attribute 'getwindowsversion'"
          ]
        }
      ]
    },
    {
      "cell_type": "code",
      "metadata": {
        "colab": {
          "base_uri": "https://localhost:8080/"
        },
        "id": "Eq0EZc8IPxw7",
        "outputId": "b4bcbbf0-4e79-4604-8a2a-baad56792456"
      },
      "source": [
        "#os 모듈: 운영체제와 관련된 기능\n",
        "import os\n",
        "\n",
        "#기본 정보 출력\n",
        "print(\"현재 운영체제:\", os.name)\n",
        "print(\"현재 폴더:\", os.getcwd())\n",
        "print(\"현재 폴더 내부의 요소\", os.listdir())\n",
        "\n",
        "#폴더를 만들고 제거\n",
        "os.mkdir('hello')\n",
        "os.rmdir('hello')\n",
        "\n",
        "#파일 생성하고 + 파일 이름을 변경\n",
        "with open('original.txt', 'w') as file:\n",
        "  file.write('hello')\n",
        "os.rename('original.txt', 'new.txt')\n",
        "\n",
        "#파일 제거\n",
        "os.remove('new.txt')\n",
        "\n",
        "#시스템 명령서 실행\n",
        "os.system('dir')"
      ],
      "execution_count": 5,
      "outputs": [
        {
          "output_type": "stream",
          "text": [
            "현재 운영체제: posix\n",
            "현재 폴더: /content\n",
            "현재 폴더 내부의 요소 ['.config', 'original.txt', 'drive', 'sample_data']\n"
          ],
          "name": "stdout"
        },
        {
          "output_type": "execute_result",
          "data": {
            "text/plain": [
              "0"
            ]
          },
          "metadata": {
            "tags": []
          },
          "execution_count": 5
        }
      ]
    },
    {
      "cell_type": "code",
      "metadata": {
        "colab": {
          "base_uri": "https://localhost:8080/",
          "height": 415
        },
        "id": "z6_HvusIQoWD",
        "outputId": "1d6c8287-c0fb-44ed-ed5b-2b7353b02cf8"
      },
      "source": [
        "#datetime 모듈: date(날짜), time(시간)과 관련된 모듈로, 날짜 형식을 만들 때 자주 사용되는 코드\n",
        "import datetime\n",
        "\n",
        "#현재 시각을 구하고 출력\n",
        "print(\"# 현재 시각 출력하기\")\n",
        "now = datetime.datetime.now()\n",
        "print(now.year, \"년\")\n",
        "print(now.month, '월')\n",
        "print(now.day, '일')\n",
        "print(now.hour, '시')\n",
        "print(now.minute, '분')\n",
        "print(now.second, '초')\n",
        "print()\n",
        "\n",
        "#시간 출력 방법\n",
        "print('# 시간을 포맷에 맞춰 출력하기')\n",
        "output_a = now.strftime(\"%Y.%m.%d %H:%M:%S\") \n",
        "output_b = \"{}년 {}월 {}일 {}시 {}분 {}초\".format(now.year, \\\n",
        "                                            now.month, \\\n",
        "                                            now.day, \\\n",
        "                                            now.hour, \\\n",
        "                                            now.minute, \\\n",
        "                                            now.second)\n",
        "output_c = now.strftime(\"%Y{} %m{} %d{} %H{} %M{} %S{}\"),format(*\"년월일시분초\") #문자열, 리스트 등 앞에 *을 붙이면 요소 하나하나가 매개변수로 지정됩니다.\n",
        "print(output_a)\n",
        "print(output_b)\n",
        "print(output_c)\n",
        "print()"
      ],
      "execution_count": 7,
      "outputs": [
        {
          "output_type": "stream",
          "text": [
            "# 현재 시각 출력하기\n",
            "2021 년\n",
            "8 월\n",
            "1 일\n",
            "5 시\n",
            "58 분\n",
            "2 초\n",
            "\n",
            "# 시간을 포맷에 맞춰 출력하기\n"
          ],
          "name": "stdout"
        },
        {
          "output_type": "error",
          "ename": "TypeError",
          "evalue": "ignored",
          "traceback": [
            "\u001b[0;31m---------------------------------------------------------------------------\u001b[0m",
            "\u001b[0;31mTypeError\u001b[0m                                 Traceback (most recent call last)",
            "\u001b[0;32m<ipython-input-7-2af85294487c>\u001b[0m in \u001b[0;36m<module>\u001b[0;34m()\u001b[0m\n\u001b[1;32m     17\u001b[0m \u001b[0moutput_a\u001b[0m \u001b[0;34m=\u001b[0m \u001b[0mnow\u001b[0m\u001b[0;34m.\u001b[0m\u001b[0mstrftime\u001b[0m\u001b[0;34m(\u001b[0m\u001b[0;34m\"%Y.%m.%d %H:%M:%S\"\u001b[0m\u001b[0;34m)\u001b[0m\u001b[0;34m\u001b[0m\u001b[0;34m\u001b[0m\u001b[0m\n\u001b[1;32m     18\u001b[0m \u001b[0moutput_b\u001b[0m \u001b[0;34m=\u001b[0m \u001b[0;34m\"{}년 {}월 {}일 {}시 {}분 {}초\"\u001b[0m\u001b[0;34m.\u001b[0m\u001b[0mformat\u001b[0m\u001b[0;34m(\u001b[0m\u001b[0mnow\u001b[0m\u001b[0;34m.\u001b[0m\u001b[0myear\u001b[0m\u001b[0;34m,\u001b[0m                                             \u001b[0mnow\u001b[0m\u001b[0;34m.\u001b[0m\u001b[0mmonth\u001b[0m\u001b[0;34m,\u001b[0m                                             \u001b[0mnow\u001b[0m\u001b[0;34m.\u001b[0m\u001b[0mday\u001b[0m\u001b[0;34m,\u001b[0m                                             \u001b[0mnow\u001b[0m\u001b[0;34m.\u001b[0m\u001b[0mhour\u001b[0m\u001b[0;34m,\u001b[0m                                             \u001b[0mnow\u001b[0m\u001b[0;34m.\u001b[0m\u001b[0mminute\u001b[0m\u001b[0;34m,\u001b[0m                                             \u001b[0mnow\u001b[0m\u001b[0;34m.\u001b[0m\u001b[0msecond\u001b[0m\u001b[0;34m)\u001b[0m\u001b[0;34m\u001b[0m\u001b[0;34m\u001b[0m\u001b[0m\n\u001b[0;32m---> 19\u001b[0;31m \u001b[0moutput_c\u001b[0m \u001b[0;34m=\u001b[0m \u001b[0mnow\u001b[0m\u001b[0;34m.\u001b[0m\u001b[0mstrftime\u001b[0m\u001b[0;34m(\u001b[0m\u001b[0;34m\"%Y{} %m{} %d{} %H{} %M{} %S{}\"\u001b[0m\u001b[0;34m)\u001b[0m\u001b[0;34m,\u001b[0m\u001b[0mformat\u001b[0m\u001b[0;34m(\u001b[0m\u001b[0;34m*\u001b[0m\u001b[0;34m\"년월일시분초\"\u001b[0m\u001b[0;34m)\u001b[0m \u001b[0;31m#문자열, 리스트 등 앞에 *을 붙이면 요소 하나하나가 매개변수로 지정됩니다.\u001b[0m\u001b[0;34m\u001b[0m\u001b[0;34m\u001b[0m\u001b[0m\n\u001b[0m\u001b[1;32m     20\u001b[0m \u001b[0mprint\u001b[0m\u001b[0;34m(\u001b[0m\u001b[0moutput_a\u001b[0m\u001b[0;34m)\u001b[0m\u001b[0;34m\u001b[0m\u001b[0;34m\u001b[0m\u001b[0m\n\u001b[1;32m     21\u001b[0m \u001b[0mprint\u001b[0m\u001b[0;34m(\u001b[0m\u001b[0moutput_b\u001b[0m\u001b[0;34m)\u001b[0m\u001b[0;34m\u001b[0m\u001b[0;34m\u001b[0m\u001b[0m\n",
            "\u001b[0;31mTypeError\u001b[0m: format() takes at most 2 arguments (6 given)"
          ]
        }
      ]
    },
    {
      "cell_type": "code",
      "metadata": {
        "id": "eLXNw4olSHvq"
      },
      "source": [
        ""
      ],
      "execution_count": null,
      "outputs": []
    }
  ]
}