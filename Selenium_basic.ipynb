{
  "nbformat": 4,
  "nbformat_minor": 0,
  "metadata": {
    "colab": {
      "name": "Selenium_basic.ipynb",
      "provenance": [],
      "authorship_tag": "ABX9TyMH4qT37vw2dmsMebeagz7j",
      "include_colab_link": true
    },
    "kernelspec": {
      "name": "python3",
      "display_name": "Python 3"
    },
    "language_info": {
      "name": "python"
    }
  },
  "cells": [
    {
      "cell_type": "markdown",
      "metadata": {
        "id": "view-in-github",
        "colab_type": "text"
      },
      "source": [
        "<a href=\"https://colab.research.google.com/github/spacemaninSeoul/justpractice/blob/main/Selenium_basic.ipynb\" target=\"_parent\"><img src=\"https://colab.research.google.com/assets/colab-badge.svg\" alt=\"Open In Colab\"/></a>"
      ]
    },
    {
      "cell_type": "markdown",
      "source": [
        "# Selenium 기초"
      ],
      "metadata": {
        "id": "_1nkIrd4Nv4Z"
      }
    },
    {
      "cell_type": "markdown",
      "source": [
        "## Selenium 및 웹 드라이버 설치"
      ],
      "metadata": {
        "id": "WX8keGDbNypF"
      }
    },
    {
      "cell_type": "code",
      "execution_count": 1,
      "metadata": {
        "colab": {
          "base_uri": "https://localhost:8080/",
          "height": 1000
        },
        "id": "NcxrXml4JcYc",
        "outputId": "2338ddf5-21f4-423f-b0e2-312f37d80605"
      },
      "outputs": [
        {
          "output_type": "stream",
          "name": "stdout",
          "text": [
            "Collecting Selenium\n",
            "  Downloading selenium-4.1.5-py3-none-any.whl (979 kB)\n",
            "\u001b[?25l\r\u001b[K     |▍                               | 10 kB 21.0 MB/s eta 0:00:01\r\u001b[K     |▊                               | 20 kB 25.6 MB/s eta 0:00:01\r\u001b[K     |█                               | 30 kB 30.8 MB/s eta 0:00:01\r\u001b[K     |█▍                              | 40 kB 14.3 MB/s eta 0:00:01\r\u001b[K     |█▊                              | 51 kB 11.7 MB/s eta 0:00:01\r\u001b[K     |██                              | 61 kB 13.4 MB/s eta 0:00:01\r\u001b[K     |██▍                             | 71 kB 12.5 MB/s eta 0:00:01\r\u001b[K     |██▊                             | 81 kB 13.6 MB/s eta 0:00:01\r\u001b[K     |███                             | 92 kB 14.9 MB/s eta 0:00:01\r\u001b[K     |███▍                            | 102 kB 14.6 MB/s eta 0:00:01\r\u001b[K     |███▊                            | 112 kB 14.6 MB/s eta 0:00:01\r\u001b[K     |████                            | 122 kB 14.6 MB/s eta 0:00:01\r\u001b[K     |████▍                           | 133 kB 14.6 MB/s eta 0:00:01\r\u001b[K     |████▊                           | 143 kB 14.6 MB/s eta 0:00:01\r\u001b[K     |█████                           | 153 kB 14.6 MB/s eta 0:00:01\r\u001b[K     |█████▍                          | 163 kB 14.6 MB/s eta 0:00:01\r\u001b[K     |█████▊                          | 174 kB 14.6 MB/s eta 0:00:01\r\u001b[K     |██████                          | 184 kB 14.6 MB/s eta 0:00:01\r\u001b[K     |██████▍                         | 194 kB 14.6 MB/s eta 0:00:01\r\u001b[K     |██████▊                         | 204 kB 14.6 MB/s eta 0:00:01\r\u001b[K     |███████                         | 215 kB 14.6 MB/s eta 0:00:01\r\u001b[K     |███████▍                        | 225 kB 14.6 MB/s eta 0:00:01\r\u001b[K     |███████▊                        | 235 kB 14.6 MB/s eta 0:00:01\r\u001b[K     |████████                        | 245 kB 14.6 MB/s eta 0:00:01\r\u001b[K     |████████▍                       | 256 kB 14.6 MB/s eta 0:00:01\r\u001b[K     |████████▊                       | 266 kB 14.6 MB/s eta 0:00:01\r\u001b[K     |█████████                       | 276 kB 14.6 MB/s eta 0:00:01\r\u001b[K     |█████████▍                      | 286 kB 14.6 MB/s eta 0:00:01\r\u001b[K     |█████████▊                      | 296 kB 14.6 MB/s eta 0:00:01\r\u001b[K     |██████████                      | 307 kB 14.6 MB/s eta 0:00:01\r\u001b[K     |██████████▍                     | 317 kB 14.6 MB/s eta 0:00:01\r\u001b[K     |██████████▊                     | 327 kB 14.6 MB/s eta 0:00:01\r\u001b[K     |███████████                     | 337 kB 14.6 MB/s eta 0:00:01\r\u001b[K     |███████████▍                    | 348 kB 14.6 MB/s eta 0:00:01\r\u001b[K     |███████████▊                    | 358 kB 14.6 MB/s eta 0:00:01\r\u001b[K     |████████████                    | 368 kB 14.6 MB/s eta 0:00:01\r\u001b[K     |████████████▍                   | 378 kB 14.6 MB/s eta 0:00:01\r\u001b[K     |████████████▊                   | 389 kB 14.6 MB/s eta 0:00:01\r\u001b[K     |█████████████                   | 399 kB 14.6 MB/s eta 0:00:01\r\u001b[K     |█████████████▍                  | 409 kB 14.6 MB/s eta 0:00:01\r\u001b[K     |█████████████▊                  | 419 kB 14.6 MB/s eta 0:00:01\r\u001b[K     |██████████████                  | 430 kB 14.6 MB/s eta 0:00:01\r\u001b[K     |██████████████▍                 | 440 kB 14.6 MB/s eta 0:00:01\r\u001b[K     |██████████████▊                 | 450 kB 14.6 MB/s eta 0:00:01\r\u001b[K     |███████████████                 | 460 kB 14.6 MB/s eta 0:00:01\r\u001b[K     |███████████████▍                | 471 kB 14.6 MB/s eta 0:00:01\r\u001b[K     |███████████████▊                | 481 kB 14.6 MB/s eta 0:00:01\r\u001b[K     |████████████████                | 491 kB 14.6 MB/s eta 0:00:01\r\u001b[K     |████████████████▍               | 501 kB 14.6 MB/s eta 0:00:01\r\u001b[K     |████████████████▊               | 512 kB 14.6 MB/s eta 0:00:01\r\u001b[K     |█████████████████               | 522 kB 14.6 MB/s eta 0:00:01\r\u001b[K     |█████████████████▍              | 532 kB 14.6 MB/s eta 0:00:01\r\u001b[K     |█████████████████▊              | 542 kB 14.6 MB/s eta 0:00:01\r\u001b[K     |██████████████████              | 552 kB 14.6 MB/s eta 0:00:01\r\u001b[K     |██████████████████▍             | 563 kB 14.6 MB/s eta 0:00:01\r\u001b[K     |██████████████████▊             | 573 kB 14.6 MB/s eta 0:00:01\r\u001b[K     |███████████████████             | 583 kB 14.6 MB/s eta 0:00:01\r\u001b[K     |███████████████████▍            | 593 kB 14.6 MB/s eta 0:00:01\r\u001b[K     |███████████████████▊            | 604 kB 14.6 MB/s eta 0:00:01\r\u001b[K     |████████████████████            | 614 kB 14.6 MB/s eta 0:00:01\r\u001b[K     |████████████████████▍           | 624 kB 14.6 MB/s eta 0:00:01\r\u001b[K     |████████████████████▊           | 634 kB 14.6 MB/s eta 0:00:01\r\u001b[K     |█████████████████████           | 645 kB 14.6 MB/s eta 0:00:01\r\u001b[K     |█████████████████████▍          | 655 kB 14.6 MB/s eta 0:00:01\r\u001b[K     |█████████████████████▊          | 665 kB 14.6 MB/s eta 0:00:01\r\u001b[K     |██████████████████████          | 675 kB 14.6 MB/s eta 0:00:01\r\u001b[K     |██████████████████████▍         | 686 kB 14.6 MB/s eta 0:00:01\r\u001b[K     |██████████████████████▊         | 696 kB 14.6 MB/s eta 0:00:01\r\u001b[K     |███████████████████████         | 706 kB 14.6 MB/s eta 0:00:01\r\u001b[K     |███████████████████████▍        | 716 kB 14.6 MB/s eta 0:00:01\r\u001b[K     |███████████████████████▊        | 727 kB 14.6 MB/s eta 0:00:01\r\u001b[K     |████████████████████████        | 737 kB 14.6 MB/s eta 0:00:01\r\u001b[K     |████████████████████████▍       | 747 kB 14.6 MB/s eta 0:00:01\r\u001b[K     |████████████████████████▊       | 757 kB 14.6 MB/s eta 0:00:01\r\u001b[K     |█████████████████████████       | 768 kB 14.6 MB/s eta 0:00:01\r\u001b[K     |█████████████████████████▍      | 778 kB 14.6 MB/s eta 0:00:01\r\u001b[K     |█████████████████████████▊      | 788 kB 14.6 MB/s eta 0:00:01\r\u001b[K     |██████████████████████████      | 798 kB 14.6 MB/s eta 0:00:01\r\u001b[K     |██████████████████████████▍     | 808 kB 14.6 MB/s eta 0:00:01\r\u001b[K     |██████████████████████████▊     | 819 kB 14.6 MB/s eta 0:00:01\r\u001b[K     |███████████████████████████     | 829 kB 14.6 MB/s eta 0:00:01\r\u001b[K     |███████████████████████████▍    | 839 kB 14.6 MB/s eta 0:00:01\r\u001b[K     |███████████████████████████▊    | 849 kB 14.6 MB/s eta 0:00:01\r\u001b[K     |████████████████████████████    | 860 kB 14.6 MB/s eta 0:00:01\r\u001b[K     |████████████████████████████▍   | 870 kB 14.6 MB/s eta 0:00:01\r\u001b[K     |████████████████████████████▊   | 880 kB 14.6 MB/s eta 0:00:01\r\u001b[K     |█████████████████████████████   | 890 kB 14.6 MB/s eta 0:00:01\r\u001b[K     |█████████████████████████████▍  | 901 kB 14.6 MB/s eta 0:00:01\r\u001b[K     |█████████████████████████████▊  | 911 kB 14.6 MB/s eta 0:00:01\r\u001b[K     |██████████████████████████████▏ | 921 kB 14.6 MB/s eta 0:00:01\r\u001b[K     |██████████████████████████████▌ | 931 kB 14.6 MB/s eta 0:00:01\r\u001b[K     |██████████████████████████████▉ | 942 kB 14.6 MB/s eta 0:00:01\r\u001b[K     |███████████████████████████████▏| 952 kB 14.6 MB/s eta 0:00:01\r\u001b[K     |███████████████████████████████▌| 962 kB 14.6 MB/s eta 0:00:01\r\u001b[K     |███████████████████████████████▉| 972 kB 14.6 MB/s eta 0:00:01\r\u001b[K     |████████████████████████████████| 979 kB 14.6 MB/s \n",
            "\u001b[?25hCollecting trio-websocket~=0.9\n",
            "  Downloading trio_websocket-0.9.2-py3-none-any.whl (16 kB)\n",
            "Collecting trio~=0.17\n",
            "  Downloading trio-0.20.0-py3-none-any.whl (359 kB)\n",
            "\u001b[K     |████████████████████████████████| 359 kB 46.0 MB/s \n",
            "\u001b[?25hCollecting urllib3[secure,socks]~=1.26\n",
            "  Downloading urllib3-1.26.9-py2.py3-none-any.whl (138 kB)\n",
            "\u001b[K     |████████████████████████████████| 138 kB 59.8 MB/s \n",
            "\u001b[?25hCollecting outcome\n",
            "  Downloading outcome-1.1.0-py2.py3-none-any.whl (9.7 kB)\n",
            "Requirement already satisfied: attrs>=19.2.0 in /usr/local/lib/python3.7/dist-packages (from trio~=0.17->Selenium) (21.4.0)\n",
            "Requirement already satisfied: idna in /usr/local/lib/python3.7/dist-packages (from trio~=0.17->Selenium) (2.10)\n",
            "Requirement already satisfied: sortedcontainers in /usr/local/lib/python3.7/dist-packages (from trio~=0.17->Selenium) (2.4.0)\n",
            "Collecting sniffio\n",
            "  Downloading sniffio-1.2.0-py3-none-any.whl (10 kB)\n",
            "Collecting async-generator>=1.9\n",
            "  Downloading async_generator-1.10-py3-none-any.whl (18 kB)\n",
            "Collecting wsproto>=0.14\n",
            "  Downloading wsproto-1.1.0-py3-none-any.whl (24 kB)\n",
            "Requirement already satisfied: certifi in /usr/local/lib/python3.7/dist-packages (from urllib3[secure,socks]~=1.26->Selenium) (2021.10.8)\n",
            "Collecting pyOpenSSL>=0.14\n",
            "  Downloading pyOpenSSL-22.0.0-py2.py3-none-any.whl (55 kB)\n",
            "\u001b[K     |████████████████████████████████| 55 kB 3.6 MB/s \n",
            "\u001b[?25hCollecting cryptography>=1.3.4\n",
            "  Downloading cryptography-37.0.2-cp36-abi3-manylinux_2_24_x86_64.whl (4.0 MB)\n",
            "\u001b[K     |████████████████████████████████| 4.0 MB 45.7 MB/s \n",
            "\u001b[?25hRequirement already satisfied: PySocks!=1.5.7,<2.0,>=1.5.6 in /usr/local/lib/python3.7/dist-packages (from urllib3[secure,socks]~=1.26->Selenium) (1.7.1)\n",
            "Requirement already satisfied: cffi>=1.12 in /usr/local/lib/python3.7/dist-packages (from cryptography>=1.3.4->urllib3[secure,socks]~=1.26->Selenium) (1.15.0)\n",
            "Requirement already satisfied: pycparser in /usr/local/lib/python3.7/dist-packages (from cffi>=1.12->cryptography>=1.3.4->urllib3[secure,socks]~=1.26->Selenium) (2.21)\n",
            "Collecting h11<1,>=0.9.0\n",
            "  Downloading h11-0.13.0-py3-none-any.whl (58 kB)\n",
            "\u001b[K     |████████████████████████████████| 58 kB 5.3 MB/s \n",
            "\u001b[?25hRequirement already satisfied: typing-extensions in /usr/local/lib/python3.7/dist-packages (from h11<1,>=0.9.0->wsproto>=0.14->trio-websocket~=0.9->Selenium) (4.2.0)\n",
            "Installing collected packages: sniffio, outcome, h11, cryptography, async-generator, wsproto, urllib3, trio, pyOpenSSL, trio-websocket, Selenium\n",
            "  Attempting uninstall: urllib3\n",
            "    Found existing installation: urllib3 1.24.3\n",
            "    Uninstalling urllib3-1.24.3:\n",
            "      Successfully uninstalled urllib3-1.24.3\n",
            "\u001b[31mERROR: pip's dependency resolver does not currently take into account all the packages that are installed. This behaviour is the source of the following dependency conflicts.\n",
            "requests 2.23.0 requires urllib3!=1.25.0,!=1.25.1,<1.26,>=1.21.1, but you have urllib3 1.26.9 which is incompatible.\n",
            "datascience 0.10.6 requires folium==0.2.1, but you have folium 0.8.3 which is incompatible.\u001b[0m\n",
            "Successfully installed Selenium-4.1.5 async-generator-1.10 cryptography-37.0.2 h11-0.13.0 outcome-1.1.0 pyOpenSSL-22.0.0 sniffio-1.2.0 trio-0.20.0 trio-websocket-0.9.2 urllib3-1.26.9 wsproto-1.1.0\n",
            "Get:1 http://security.ubuntu.com/ubuntu bionic-security InRelease [88.7 kB]\n",
            "Get:2 http://ppa.launchpad.net/c2d4u.team/c2d4u4.0+/ubuntu bionic InRelease [15.9 kB]\n",
            "Get:3 https://cloud.r-project.org/bin/linux/ubuntu bionic-cran40/ InRelease [3,626 B]\n",
            "Get:4 https://developer.download.nvidia.com/compute/cuda/repos/ubuntu1804/x86_64  InRelease [1,581 B]\n",
            "Hit:5 http://ppa.launchpad.net/cran/libgit2/ubuntu bionic InRelease\n",
            "Get:6 http://ppa.launchpad.net/deadsnakes/ppa/ubuntu bionic InRelease [15.9 kB]\n",
            "Get:7 http://ppa.launchpad.net/graphics-drivers/ppa/ubuntu bionic InRelease [21.3 kB]\n",
            "Hit:8 http://archive.ubuntu.com/ubuntu bionic InRelease\n",
            "Ign:9 https://developer.download.nvidia.com/compute/machine-learning/repos/ubuntu1804/x86_64  InRelease\n",
            "Hit:10 https://developer.download.nvidia.com/compute/machine-learning/repos/ubuntu1804/x86_64  Release\n",
            "Get:11 http://archive.ubuntu.com/ubuntu bionic-updates InRelease [88.7 kB]\n",
            "Get:12 http://ppa.launchpad.net/c2d4u.team/c2d4u4.0+/ubuntu bionic/main Sources [1,957 kB]\n",
            "Get:13 http://ppa.launchpad.net/c2d4u.team/c2d4u4.0+/ubuntu bionic/main amd64 Packages [1,004 kB]\n",
            "Get:14 http://archive.ubuntu.com/ubuntu bionic-backports InRelease [74.6 kB]\n",
            "Get:15 http://security.ubuntu.com/ubuntu bionic-security/restricted amd64 Packages [932 kB]\n",
            "Get:16 http://security.ubuntu.com/ubuntu bionic-security/universe amd64 Packages [1,503 kB]\n",
            "Get:17 http://security.ubuntu.com/ubuntu bionic-security/main amd64 Packages [2,762 kB]\n",
            "Get:18 https://cloud.r-project.org/bin/linux/ubuntu bionic-cran40/ Packages [85.2 kB]\n",
            "Get:19 https://developer.download.nvidia.com/compute/cuda/repos/ubuntu1804/x86_64  Packages [770 kB]\n",
            "Get:20 http://ppa.launchpad.net/deadsnakes/ppa/ubuntu bionic/main amd64 Packages [45.3 kB]\n",
            "Get:21 http://ppa.launchpad.net/graphics-drivers/ppa/ubuntu bionic/main amd64 Packages [44.3 kB]\n",
            "Get:23 http://archive.ubuntu.com/ubuntu bionic-updates/main amd64 Packages [3,197 kB]\n",
            "Get:24 http://archive.ubuntu.com/ubuntu bionic-updates/universe amd64 Packages [2,277 kB]\n",
            "Get:25 http://archive.ubuntu.com/ubuntu bionic-updates/restricted amd64 Packages [966 kB]\n",
            "Fetched 15.9 MB in 4s (4,336 kB/s)\n",
            "Reading package lists... Done\n",
            "Reading package lists... Done\n",
            "Building dependency tree       \n",
            "Reading state information... Done\n",
            "The following packages were automatically installed and are no longer required:\n",
            "  libnvidia-common-460 nsight-compute-2020.2.0\n",
            "Use 'apt autoremove' to remove them.\n",
            "The following additional packages will be installed:\n",
            "  chromium-browser chromium-browser-l10n chromium-codecs-ffmpeg-extra\n",
            "Suggested packages:\n",
            "  webaccounts-chromium-extension unity-chromium-extension\n",
            "The following NEW packages will be installed:\n",
            "  chromium-browser chromium-browser-l10n chromium-chromedriver\n",
            "  chromium-codecs-ffmpeg-extra\n",
            "0 upgraded, 4 newly installed, 0 to remove and 72 not upgraded.\n",
            "Need to get 89.8 MB of archives.\n",
            "After this operation, 302 MB of additional disk space will be used.\n",
            "Get:1 http://archive.ubuntu.com/ubuntu bionic-updates/universe amd64 chromium-codecs-ffmpeg-extra amd64 101.0.4951.64-0ubuntu0.18.04.1 [1,142 kB]\n",
            "Get:2 http://archive.ubuntu.com/ubuntu bionic-updates/universe amd64 chromium-browser amd64 101.0.4951.64-0ubuntu0.18.04.1 [78.5 MB]\n",
            "Get:3 http://archive.ubuntu.com/ubuntu bionic-updates/universe amd64 chromium-browser-l10n all 101.0.4951.64-0ubuntu0.18.04.1 [4,980 kB]\n",
            "Get:4 http://archive.ubuntu.com/ubuntu bionic-updates/universe amd64 chromium-chromedriver amd64 101.0.4951.64-0ubuntu0.18.04.1 [5,153 kB]\n",
            "Fetched 89.8 MB in 3s (25.9 MB/s)\n",
            "Selecting previously unselected package chromium-codecs-ffmpeg-extra.\n",
            "(Reading database ... 155203 files and directories currently installed.)\n",
            "Preparing to unpack .../chromium-codecs-ffmpeg-extra_101.0.4951.64-0ubuntu0.18.04.1_amd64.deb ...\n",
            "Unpacking chromium-codecs-ffmpeg-extra (101.0.4951.64-0ubuntu0.18.04.1) ...\n",
            "Selecting previously unselected package chromium-browser.\n",
            "Preparing to unpack .../chromium-browser_101.0.4951.64-0ubuntu0.18.04.1_amd64.deb ...\n",
            "Unpacking chromium-browser (101.0.4951.64-0ubuntu0.18.04.1) ...\n",
            "Selecting previously unselected package chromium-browser-l10n.\n",
            "Preparing to unpack .../chromium-browser-l10n_101.0.4951.64-0ubuntu0.18.04.1_all.deb ...\n",
            "Unpacking chromium-browser-l10n (101.0.4951.64-0ubuntu0.18.04.1) ...\n",
            "Selecting previously unselected package chromium-chromedriver.\n",
            "Preparing to unpack .../chromium-chromedriver_101.0.4951.64-0ubuntu0.18.04.1_amd64.deb ...\n",
            "Unpacking chromium-chromedriver (101.0.4951.64-0ubuntu0.18.04.1) ...\n",
            "Setting up chromium-codecs-ffmpeg-extra (101.0.4951.64-0ubuntu0.18.04.1) ...\n",
            "Setting up chromium-browser (101.0.4951.64-0ubuntu0.18.04.1) ...\n",
            "update-alternatives: using /usr/bin/chromium-browser to provide /usr/bin/x-www-browser (x-www-browser) in auto mode\n",
            "update-alternatives: using /usr/bin/chromium-browser to provide /usr/bin/gnome-www-browser (gnome-www-browser) in auto mode\n",
            "Setting up chromium-chromedriver (101.0.4951.64-0ubuntu0.18.04.1) ...\n",
            "Setting up chromium-browser-l10n (101.0.4951.64-0ubuntu0.18.04.1) ...\n",
            "Processing triggers for man-db (2.8.3-2ubuntu0.1) ...\n",
            "Processing triggers for hicolor-icon-theme (0.17-2) ...\n",
            "Processing triggers for mime-support (3.60ubuntu1) ...\n",
            "Processing triggers for libc-bin (2.27-3ubuntu1.3) ...\n",
            "/sbin/ldconfig.real: /usr/local/lib/python3.7/dist-packages/ideep4py/lib/libmkldnn.so.0 is not a symbolic link\n",
            "\n",
            "cp: cannot stat '/user/lib/chromium-browser/chromedriver': No such file or directory\n",
            "/bin/bash: import: command not found\n"
          ]
        },
        {
          "output_type": "error",
          "ename": "NameError",
          "evalue": "ignored",
          "traceback": [
            "\u001b[0;31m---------------------------------------------------------------------------\u001b[0m",
            "\u001b[0;31mNameError\u001b[0m                                 Traceback (most recent call last)",
            "\u001b[0;32m<ipython-input-1-e98ec66f45ad>\u001b[0m in \u001b[0;36m<module>\u001b[0;34m()\u001b[0m\n\u001b[1;32m      5\u001b[0m \u001b[0;34m\u001b[0m\u001b[0m\n\u001b[1;32m      6\u001b[0m \u001b[0mget_ipython\u001b[0m\u001b[0;34m(\u001b[0m\u001b[0;34m)\u001b[0m\u001b[0;34m.\u001b[0m\u001b[0msystem\u001b[0m\u001b[0;34m(\u001b[0m\u001b[0;34m'import sys'\u001b[0m\u001b[0;34m)\u001b[0m\u001b[0;34m\u001b[0m\u001b[0;34m\u001b[0m\u001b[0m\n\u001b[0;32m----> 7\u001b[0;31m \u001b[0msys\u001b[0m\u001b[0;34m.\u001b[0m\u001b[0mpath\u001b[0m\u001b[0;34m.\u001b[0m\u001b[0minsert\u001b[0m\u001b[0;34m(\u001b[0m\u001b[0;36m0\u001b[0m\u001b[0;34m,\u001b[0m \u001b[0;34m'/user/lib/chromium-browser/chromedriver'\u001b[0m\u001b[0;34m)\u001b[0m\u001b[0;34m\u001b[0m\u001b[0;34m\u001b[0m\u001b[0m\n\u001b[0m",
            "\u001b[0;31mNameError\u001b[0m: name 'sys' is not defined"
          ]
        }
      ],
      "source": [
        "!pip install Selenium\n",
        "!apt-get update\n",
        "!apt install chromium-chromedriver\n",
        "! cp /user/lib/chromium-browser/chromedriver /user/bin"
      ]
    },
    {
      "cell_type": "code",
      "source": [
        "import sys\n",
        "sys.path.insert(0, '/user/lib/chromium-browser/chromedriver')"
      ],
      "metadata": {
        "id": "YcSf982ZOYj5"
      },
      "execution_count": 2,
      "outputs": []
    },
    {
      "cell_type": "markdown",
      "source": [
        "## 웹 드라이버 설정"
      ],
      "metadata": {
        "id": "Ty9u6d_wOawY"
      }
    },
    {
      "cell_type": "code",
      "source": [
        "from selenium import webdriver\n",
        "\n",
        "chrome_options = webdriver.ChromeOptions()\n",
        "chrome_options.add_argument('--headless')\n",
        "chrome_options.add_argument('--no-sandbox')\n",
        "chrome_options.add_argument('--disable-dev-shm-usage')"
      ],
      "metadata": {
        "id": "x_7vrdopOcL4"
      },
      "execution_count": 4,
      "outputs": []
    },
    {
      "cell_type": "markdown",
      "source": [
        "## 웹 드라이버 객체 생성\n"
      ],
      "metadata": {
        "id": "M6wwdNKwOxpf"
      }
    },
    {
      "cell_type": "code",
      "source": [
        "wd = webdriver.Chrome('chromedriver', options=chrome_options)"
      ],
      "metadata": {
        "id": "rRa6BevUOzSw"
      },
      "execution_count": 6,
      "outputs": []
    },
    {
      "cell_type": "markdown",
      "source": [
        "## Selenium 실행"
      ],
      "metadata": {
        "id": "n6lzGJTmO_H7"
      }
    },
    {
      "cell_type": "code",
      "source": [
        "wd.get('http://suanlab.com/')"
      ],
      "metadata": {
        "id": "3HDxT_ndO3zD"
      },
      "execution_count": 7,
      "outputs": []
    },
    {
      "cell_type": "code",
      "source": [
        "wd.get_screenshot_as_file('suanlab.png')"
      ],
      "metadata": {
        "colab": {
          "base_uri": "https://localhost:8080/"
        },
        "id": "psARytNEPQSc",
        "outputId": "de05087a-c9ec-4f7f-9853-8d9b1cc40c22"
      },
      "execution_count": 8,
      "outputs": [
        {
          "output_type": "execute_result",
          "data": {
            "text/plain": [
              "True"
            ]
          },
          "metadata": {},
          "execution_count": 8
        }
      ]
    },
    {
      "cell_type": "code",
      "source": [
        "from google.colab import files\n",
        "files.download('suanlab.png')"
      ],
      "metadata": {
        "colab": {
          "base_uri": "https://localhost:8080/",
          "height": 17
        },
        "id": "_7FxbrSHPXDb",
        "outputId": "50aac33c-82ae-4aa2-a1d4-5cdd05799aac"
      },
      "execution_count": 9,
      "outputs": [
        {
          "output_type": "display_data",
          "data": {
            "text/plain": [
              "<IPython.core.display.Javascript object>"
            ],
            "application/javascript": [
              "\n",
              "    async function download(id, filename, size) {\n",
              "      if (!google.colab.kernel.accessAllowed) {\n",
              "        return;\n",
              "      }\n",
              "      const div = document.createElement('div');\n",
              "      const label = document.createElement('label');\n",
              "      label.textContent = `Downloading \"${filename}\": `;\n",
              "      div.appendChild(label);\n",
              "      const progress = document.createElement('progress');\n",
              "      progress.max = size;\n",
              "      div.appendChild(progress);\n",
              "      document.body.appendChild(div);\n",
              "\n",
              "      const buffers = [];\n",
              "      let downloaded = 0;\n",
              "\n",
              "      const channel = await google.colab.kernel.comms.open(id);\n",
              "      // Send a message to notify the kernel that we're ready.\n",
              "      channel.send({})\n",
              "\n",
              "      for await (const message of channel.messages) {\n",
              "        // Send a message to notify the kernel that we're ready.\n",
              "        channel.send({})\n",
              "        if (message.buffers) {\n",
              "          for (const buffer of message.buffers) {\n",
              "            buffers.push(buffer);\n",
              "            downloaded += buffer.byteLength;\n",
              "            progress.value = downloaded;\n",
              "          }\n",
              "        }\n",
              "      }\n",
              "      const blob = new Blob(buffers, {type: 'application/binary'});\n",
              "      const a = document.createElement('a');\n",
              "      a.href = window.URL.createObjectURL(blob);\n",
              "      a.download = filename;\n",
              "      div.appendChild(a);\n",
              "      a.click();\n",
              "      div.remove();\n",
              "    }\n",
              "  "
            ]
          },
          "metadata": {}
        },
        {
          "output_type": "display_data",
          "data": {
            "text/plain": [
              "<IPython.core.display.Javascript object>"
            ],
            "application/javascript": [
              "download(\"download_eb648207-1090-4505-b904-671d9c9dfd21\", \"suanlab.png\", 280159)"
            ]
          },
          "metadata": {}
        }
      ]
    },
    {
      "cell_type": "code",
      "source": [
        "for label in wd.find_elements_by_tag_name('label'):\n",
        "  print(label.text)"
      ],
      "metadata": {
        "colab": {
          "base_uri": "https://localhost:8080/"
        },
        "id": "9DJz8cimPrAK",
        "outputId": "86829e11-b234-41cf-8bb4-c3d65fc9e453"
      },
      "execution_count": 11,
      "outputs": [
        {
          "output_type": "stream",
          "name": "stderr",
          "text": [
            "/usr/local/lib/python3.7/dist-packages/ipykernel_launcher.py:1: DeprecationWarning: find_elements_by_tag_name is deprecated. Please use find_elements(by=By.TAG_NAME, value=name) instead\n",
            "  \"\"\"Entry point for launching an IPython kernel.\n"
          ]
        },
        {
          "output_type": "stream",
          "name": "stdout",
          "text": [
            "[2020-04-14] \"메타버스 시대가 오고 있다\"\n",
            "[2020-01-20] \"바이러스 연구부터 뷰티·배달 AI 결합한 비즈니스...\"\n",
            "[2020-10-07] \"이력서 작성·레시피 제공 다양하게 활용되는 GPT3\"\n",
            "[2020-05-20] \"인공지능의 보안 위협\"\n",
            "[2020-03-04] \"데이터 경제 시대\"\n",
            "[2019-12-25] \"마이데이터 시대의 도래 데이터 주권과 새로운 가치\"\n",
            "[2019-09-04] \"농업으로 들어간 인공지능\"\n",
            "[2019-08-07] \"AI시대 지배할 것인가 지배당하며 살 것인가\"\n"
          ]
        }
      ]
    },
    {
      "cell_type": "code",
      "source": [
        "for label in wd.find_elements_by_css_selector('#wrapper > section > div > div > div > div > div > label'):\n",
        "  print(label.text)"
      ],
      "metadata": {
        "colab": {
          "base_uri": "https://localhost:8080/"
        },
        "id": "1fmWqedjQDoP",
        "outputId": "ce4f2faa-0c56-451c-d0c1-5584cb198fe1"
      },
      "execution_count": 12,
      "outputs": [
        {
          "output_type": "stream",
          "name": "stderr",
          "text": [
            "/usr/local/lib/python3.7/dist-packages/ipykernel_launcher.py:1: DeprecationWarning: find_elements_by_css_selector is deprecated. Please use find_elements(by=By.CSS_SELECTOR, value=css_selector) instead\n",
            "  \"\"\"Entry point for launching an IPython kernel.\n"
          ]
        },
        {
          "output_type": "stream",
          "name": "stdout",
          "text": [
            "[2020-04-14] \"메타버스 시대가 오고 있다\"\n",
            "[2020-01-20] \"바이러스 연구부터 뷰티·배달 AI 결합한 비즈니스...\"\n",
            "[2020-10-07] \"이력서 작성·레시피 제공 다양하게 활용되는 GPT3\"\n",
            "[2020-05-20] \"인공지능의 보안 위협\"\n",
            "[2020-03-04] \"데이터 경제 시대\"\n",
            "[2019-12-25] \"마이데이터 시대의 도래 데이터 주권과 새로운 가치\"\n",
            "[2019-09-04] \"농업으로 들어간 인공지능\"\n",
            "[2019-08-07] \"AI시대 지배할 것인가 지배당하며 살 것인가\"\n"
          ]
        }
      ]
    },
    {
      "cell_type": "code",
      "source": [
        "# element와 elements의 차이 주의.\n",
        "for label in wd.find_elements_by_xpath('//*[@id=\"wrapper\"]/section/div/div/div/div/div/label'):\n",
        "  print(label.text)"
      ],
      "metadata": {
        "colab": {
          "base_uri": "https://localhost:8080/"
        },
        "id": "2-_dTvViQaLn",
        "outputId": "3a5ade4a-57f5-41a9-af47-9fd6bf34ab8a"
      },
      "execution_count": 13,
      "outputs": [
        {
          "output_type": "stream",
          "name": "stderr",
          "text": [
            "/usr/local/lib/python3.7/dist-packages/ipykernel_launcher.py:2: DeprecationWarning: find_elements_by_xpath is deprecated. Please use find_elements(by=By.XPATH, value=xpath) instead\n",
            "  \n"
          ]
        },
        {
          "output_type": "stream",
          "name": "stdout",
          "text": [
            "[2020-04-14] \"메타버스 시대가 오고 있다\"\n",
            "[2020-01-20] \"바이러스 연구부터 뷰티·배달 AI 결합한 비즈니스...\"\n",
            "[2020-10-07] \"이력서 작성·레시피 제공 다양하게 활용되는 GPT3\"\n",
            "[2020-05-20] \"인공지능의 보안 위협\"\n",
            "[2020-03-04] \"데이터 경제 시대\"\n",
            "[2019-12-25] \"마이데이터 시대의 도래 데이터 주권과 새로운 가치\"\n",
            "[2019-09-04] \"농업으로 들어간 인공지능\"\n",
            "[2019-08-07] \"AI시대 지배할 것인가 지배당하며 살 것인가\"\n"
          ]
        }
      ]
    },
    {
      "cell_type": "code",
      "source": [
        "for label in wd.find_elements_by_class_name('toggle'):\n",
        "  print(label.text)"
      ],
      "metadata": {
        "colab": {
          "base_uri": "https://localhost:8080/"
        },
        "id": "c8G3RnVsQtx3",
        "outputId": "a96af330-ab1f-4293-af5f-15a8f78372f3"
      },
      "execution_count": 14,
      "outputs": [
        {
          "output_type": "stream",
          "name": "stderr",
          "text": [
            "/usr/local/lib/python3.7/dist-packages/ipykernel_launcher.py:1: DeprecationWarning: find_elements_by_class_name is deprecated. Please use find_elements(by=By.CLASS_NAME, value=name) instead\n",
            "  \"\"\"Entry point for launching an IPython kernel.\n"
          ]
        },
        {
          "output_type": "stream",
          "name": "stdout",
          "text": [
            "[2020-04-14] \"메타버스 시대가 오고 있다\"\n",
            "\n",
            "[2020-01-20] \"바이러스 연구부터 뷰티·배달 AI 결합한 비즈니스...\"\n",
            "\n",
            "[2020-10-07] \"이력서 작성·레시피 제공 다양하게 활용되는 GPT3\"\n",
            "\n",
            "[2020-05-20] \"인공지능의 보안 위협\"\n",
            "\n",
            "[2020-03-04] \"데이터 경제 시대\"\n",
            "\n",
            "[2019-12-25] \"마이데이터 시대의 도래 데이터 주권과 새로운 가치\"\n",
            "\n",
            "[2019-09-04] \"농업으로 들어간 인공지능\"\n",
            "\n",
            "[2019-08-07] \"AI시대 지배할 것인가 지배당하며 살 것인가\"\n",
            "[2020-04-14] \"메타버스 시대가 오고 있다\"\n",
            "[2020-01-20] \"바이러스 연구부터 뷰티·배달 AI 결합한 비즈니스...\"\n",
            "[2020-10-07] \"이력서 작성·레시피 제공 다양하게 활용되는 GPT3\"\n",
            "[2020-05-20] \"인공지능의 보안 위협\"\n",
            "[2020-03-04] \"데이터 경제 시대\"\n",
            "[2019-12-25] \"마이데이터 시대의 도래 데이터 주권과 새로운 가치\"\n",
            "[2019-09-04] \"농업으로 들어간 인공지능\"\n",
            "[2019-08-07] \"AI시대 지배할 것인가 지배당하며 살 것인가\"\n"
          ]
        }
      ]
    },
    {
      "cell_type": "code",
      "source": [
        "toggle_class =  wd.find_element_by_css_selector('#wrapper > section > div > div > div > div')\n",
        "for label in toggle_class.find_elements_by_class_name('toggle'):\n",
        "  print(label.text)"
      ],
      "metadata": {
        "colab": {
          "base_uri": "https://localhost:8080/"
        },
        "id": "yYDbMrWKQ7K7",
        "outputId": "5367997a-37ca-4d47-aa7e-b6de35c7bf4c"
      },
      "execution_count": 17,
      "outputs": [
        {
          "output_type": "stream",
          "name": "stdout",
          "text": [
            "[2020-04-14] \"메타버스 시대가 오고 있다\"\n",
            "[2020-01-20] \"바이러스 연구부터 뷰티·배달 AI 결합한 비즈니스...\"\n",
            "[2020-10-07] \"이력서 작성·레시피 제공 다양하게 활용되는 GPT3\"\n",
            "[2020-05-20] \"인공지능의 보안 위협\"\n",
            "[2020-03-04] \"데이터 경제 시대\"\n",
            "[2019-12-25] \"마이데이터 시대의 도래 데이터 주권과 새로운 가치\"\n",
            "[2019-09-04] \"농업으로 들어간 인공지능\"\n",
            "[2019-08-07] \"AI시대 지배할 것인가 지배당하며 살 것인가\"\n"
          ]
        },
        {
          "output_type": "stream",
          "name": "stderr",
          "text": [
            "/usr/local/lib/python3.7/dist-packages/ipykernel_launcher.py:1: DeprecationWarning: find_element_by_css_selector is deprecated. Please use find_element(by=By.CSS_SELECTOR, value=css_selector) instead\n",
            "  \"\"\"Entry point for launching an IPython kernel.\n"
          ]
        }
      ]
    },
    {
      "cell_type": "code",
      "source": [
        "from selenium.webdriver.common.by import By\n",
        "\n",
        "for label in wd.find_elements(By.TAG_NAME, 'label'):\n",
        "  print(label.text)"
      ],
      "metadata": {
        "colab": {
          "base_uri": "https://localhost:8080/"
        },
        "id": "dNb_WYvhRemS",
        "outputId": "dde6e57f-8df8-4325-8e04-d819d82074e3"
      },
      "execution_count": 19,
      "outputs": [
        {
          "output_type": "stream",
          "name": "stdout",
          "text": [
            "[2020-04-14] \"메타버스 시대가 오고 있다\"\n",
            "[2020-01-20] \"바이러스 연구부터 뷰티·배달 AI 결합한 비즈니스...\"\n",
            "[2020-10-07] \"이력서 작성·레시피 제공 다양하게 활용되는 GPT3\"\n",
            "[2020-05-20] \"인공지능의 보안 위협\"\n",
            "[2020-03-04] \"데이터 경제 시대\"\n",
            "[2019-12-25] \"마이데이터 시대의 도래 데이터 주권과 새로운 가치\"\n",
            "[2019-09-04] \"농업으로 들어간 인공지능\"\n",
            "[2019-08-07] \"AI시대 지배할 것인가 지배당하며 살 것인가\"\n"
          ]
        }
      ]
    }
  ]
}