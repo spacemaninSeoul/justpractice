{
  "nbformat": 4,
  "nbformat_minor": 0,
  "metadata": {
    "colab": {
      "name": "operation principle of DL.ipynb",
      "provenance": [],
      "collapsed_sections": [],
      "authorship_tag": "ABX9TyPl9Dqg+8gk/g7JicXU/Ode",
      "include_colab_link": true
    },
    "kernelspec": {
      "name": "python3",
      "display_name": "Python 3"
    },
    "language_info": {
      "name": "python"
    }
  },
  "cells": [
    {
      "cell_type": "markdown",
      "metadata": {
        "id": "view-in-github",
        "colab_type": "text"
      },
      "source": [
        "<a href=\"https://colab.research.google.com/github/spacemaninSeoul/justpractice/blob/main/operation_principle_of_DL.ipynb\" target=\"_parent\"><img src=\"https://colab.research.google.com/assets/colab-badge.svg\" alt=\"Open In Colab\"/></a>"
      ]
    },
    {
      "cell_type": "markdown",
      "source": [
        "# 1. 최소제곱법\n",
        "\n",
        "최소제곱법이란 회귀 분석에서 사용되는 표준 방식으로 실험이나 관찰을 통해 얻은 데이터를 분석하여 미지의 상수를 구하는 데 사용되는 공식이다.\n",
        "\n",
        "\n",
        "\n",
        "```\n",
        "기울기 a = (x - x평균)(y - y 평균)의 합 / (x - x평균)의 합의 제곱\n",
        "\n",
        "y 절편 b = y의 평균 - (x의 평균 * 기울기 a)\n",
        "```\n",
        "\n"
      ],
      "metadata": {
        "id": "B-doDhz_16P5"
      }
    },
    {
      "cell_type": "code",
      "execution_count": 1,
      "metadata": {
        "id": "eOhvYWXeyDLd"
      },
      "outputs": [],
      "source": [
        "# 최소제곱법 예시\n",
        "import numpy as np"
      ]
    },
    {
      "cell_type": "code",
      "source": [
        "x = [2, 4, 6, 8]\n",
        "y = [81, 93, 91, 97]"
      ],
      "metadata": {
        "id": "dzHTCbyt4YvT"
      },
      "execution_count": 2,
      "outputs": []
    },
    {
      "cell_type": "code",
      "source": [
        "mx = np.mean(x)\n",
        "my = np.mean(y)"
      ],
      "metadata": {
        "id": "V0nvtq0q4e5o"
      },
      "execution_count": 3,
      "outputs": []
    },
    {
      "cell_type": "code",
      "source": [
        "# 분모\n",
        "divisor = sum([(i - mx)**2 for i in x])"
      ],
      "metadata": {
        "id": "C2pOJ5fF4q5I"
      },
      "execution_count": 5,
      "outputs": []
    },
    {
      "cell_type": "code",
      "source": [
        "# 분자\n",
        "def top (x, mx, y, my):\n",
        "  d = 0\n",
        "  for i in range(len(x)):\n",
        "    d += (x[i] - mx) * (y[i] - my)\n",
        "  return d\n",
        "\n",
        "dividend = top(x, mx, y, my)"
      ],
      "metadata": {
        "id": "Hthmd24s5T6d"
      },
      "execution_count": 12,
      "outputs": []
    },
    {
      "cell_type": "code",
      "source": [
        "# 기울기의 값\n",
        "a = dividend / divisor\n",
        "a"
      ],
      "metadata": {
        "colab": {
          "base_uri": "https://localhost:8080/"
        },
        "id": "tY4WJ4xw6buB",
        "outputId": "39af8f0e-8dab-4dab-b2fd-0b3fe3216208"
      },
      "execution_count": 15,
      "outputs": [
        {
          "output_type": "execute_result",
          "data": {
            "text/plain": [
              "2.3"
            ]
          },
          "metadata": {},
          "execution_count": 15
        }
      ]
    },
    {
      "cell_type": "code",
      "source": [
        "# y 절편 구하기\n",
        "coef = my - (mx * a)\n",
        "coef"
      ],
      "metadata": {
        "colab": {
          "base_uri": "https://localhost:8080/"
        },
        "id": "hJgLXqKw6glM",
        "outputId": "3cae4ce0-beec-49b4-c48a-45bfc1108bb8"
      },
      "execution_count": 16,
      "outputs": [
        {
          "output_type": "execute_result",
          "data": {
            "text/plain": [
              "79.0"
            ]
          },
          "metadata": {},
          "execution_count": 16
        }
      ]
    },
    {
      "cell_type": "markdown",
      "source": [
        "# 2. 평균제곱근 오차\n",
        "\n",
        "여러 개의 입력 값을 계산할 때는 임의의 선을 그리고 난 후, 이 선이 얼마나 잘 그려졌는지를 평가하여 조금씩 수정해 가는 방법을 사용한다. 이를 위해 주어진 선의 오차를 평가하는 오차 평가 알고리즘이 필요하다. 이 중 가장 많이 사용되는 방식이 평균 제곱근 오차(root mean square error)이다.\n",
        "\n",
        "\n",
        "\n",
        "```\n",
        "평균 제곱 오차(MSE) = 1/n * ∑(pi - yi)**2 = (예측값 - 실제값)의 제곱의 합 / n\n",
        "\n",
        "평균 제곱근 오차(RMSE) = √(1/n * ∑(pi - yi)**2) = √((예측값 - 실제값)의 제곱의 합 / n)\n",
        "```\n",
        "\n"
      ],
      "metadata": {
        "id": "F2GwemZF_AhS"
      }
    }
  ]
}