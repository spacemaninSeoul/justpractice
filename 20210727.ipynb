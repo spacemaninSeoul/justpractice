{
  "nbformat": 4,
  "nbformat_minor": 0,
  "metadata": {
    "colab": {
      "name": "Untitled4.ipynb",
      "provenance": [],
      "authorship_tag": "ABX9TyNtK6iz9zUK24jwNSdDsful",
      "include_colab_link": true
    },
    "kernelspec": {
      "name": "python3",
      "display_name": "Python 3"
    },
    "language_info": {
      "name": "python"
    }
  },
  "cells": [
    {
      "cell_type": "markdown",
      "metadata": {
        "id": "view-in-github",
        "colab_type": "text"
      },
      "source": [
        "<a href=\"https://colab.research.google.com/github/spacemaninSeoul/justpractice/blob/main/20210727.ipynb\" target=\"_parent\"><img src=\"https://colab.research.google.com/assets/colab-badge.svg\" alt=\"Open In Colab\"/></a>"
      ]
    },
    {
      "cell_type": "code",
      "metadata": {
        "colab": {
          "base_uri": "https://localhost:8080/"
        },
        "id": "PkFHkLCd7XR7",
        "outputId": "53f6cb68-3705-458c-b62b-01d92de51cbe"
      },
      "source": [
        "#반대로 반복하기 reversed() 함수\n",
        "for i in reversed(range(5)):\n",
        "  print('헌재 반복 변수:{}'.format(i))"
      ],
      "execution_count": 3,
      "outputs": [
        {
          "output_type": "stream",
          "text": [
            "헌재 반복 변수:4\n",
            "헌재 반복 변수:3\n",
            "헌재 반복 변수:2\n",
            "헌재 반복 변수:1\n",
            "헌재 반복 변수:0\n"
          ],
          "name": "stdout"
        }
      ]
    },
    {
      "cell_type": "code",
      "metadata": {
        "colab": {
          "base_uri": "https://localhost:8080/"
        },
        "id": "nbNASMzM8anf",
        "outputId": "0d72270c-557b-46cc-b829-67c41e79c4a4"
      },
      "source": [
        "#while 반복문을 for 반복문처럼 사용하기\n",
        "i = 0\n",
        "while i < 10:\n",
        "  print(\"{}번째 반복입니다.\".format(i))\n",
        "  i += 1"
      ],
      "execution_count": 4,
      "outputs": [
        {
          "output_type": "stream",
          "text": [
            "0번째 반복입니다.\n",
            "1번째 반복입니다.\n",
            "2번째 반복입니다.\n",
            "3번째 반복입니다.\n",
            "4번째 반복입니다.\n",
            "5번째 반복입니다.\n",
            "6번째 반복입니다.\n",
            "7번째 반복입니다.\n",
            "8번째 반복입니다.\n",
            "9번째 반복입니다.\n"
          ],
          "name": "stdout"
        }
      ]
    },
    {
      "cell_type": "code",
      "metadata": {
        "colab": {
          "base_uri": "https://localhost:8080/"
        },
        "id": "qYuWiw639qoJ",
        "outputId": "81571af5-e045-4636-b94f-e127cab85e3d"
      },
      "source": [
        "#while 반복문: 상태를 기반으로 반복하기\n",
        "#변수를 선언\n",
        "list_test = [1, 2, 1, 2]\n",
        "value = 2\n",
        "\n",
        "while value in list_test:\n",
        "  list_test.remove(value)\n",
        "\n",
        "print(list_test)"
      ],
      "execution_count": 5,
      "outputs": [
        {
          "output_type": "stream",
          "text": [
            "[1, 1]\n"
          ],
          "name": "stdout"
        }
      ]
    },
    {
      "cell_type": "code",
      "metadata": {
        "colab": {
          "base_uri": "https://localhost:8080/"
        },
        "id": "t6WWXH0g962b",
        "outputId": "f51418d2-b5a5-4a5a-fd73-d9da36822d05"
      },
      "source": [
        "#break 키워드 반복문을 벗어 날 때 사용.\n",
        "i = 0\n",
        "while True:\n",
        "  print(\"{}번째 반복문입니다.\".format(i))\n",
        "  i = i + 1\n",
        "  input_text = input(\"> 종료하시겠습니까?(y/n): \")\n",
        "  if input_text in [\"y\", \"Y\"]:\n",
        "    print(\"반복을 종료합니다.\")\n",
        "    break"
      ],
      "execution_count": 9,
      "outputs": [
        {
          "output_type": "stream",
          "text": [
            "0번째 반복문입니다.\n",
            "> 종료하시겠습니까?(y/n): n\n",
            "1번째 반복문입니다.\n",
            "> 종료하시겠습니까?(y/n): n\n",
            "2번째 반복문입니다.\n",
            "> 종료하시겠습니까?(y/n): y\n",
            "반복을 종료합니다.\n"
          ],
          "name": "stdout"
        }
      ]
    },
    {
      "cell_type": "code",
      "metadata": {
        "colab": {
          "base_uri": "https://localhost:8080/"
        },
        "id": "MqNR3ktR__TZ",
        "outputId": "8a7696a9-5795-4e94-e15c-3f315a846cc6"
      },
      "source": [
        "#continue 키워드 - 현재 반복을 생략하고, 다음 반복으로 넘어갈 때 사용하는 키워드\n",
        "#변수 선언\n",
        "numbers = [5, 15, 6, 20, 7, 25]\n",
        "\n",
        "#반복\n",
        "for number in numbers:\n",
        "  if number < 10:\n",
        "    continue\n",
        "  print(number)"
      ],
      "execution_count": 10,
      "outputs": [
        {
          "output_type": "stream",
          "text": [
            "15\n",
            "20\n",
            "25\n"
          ],
          "name": "stdout"
        }
      ]
    },
    {
      "cell_type": "code",
      "metadata": {
        "colab": {
          "base_uri": "https://localhost:8080/"
        },
        "id": "NAj3F_a0CgMI",
        "outputId": "bb2eb79d-f8d9-46f6-ea93-7295112f837e"
      },
      "source": [
        "key_list = [\"name\", \"hp\", \"mp\", \"level\"]\n",
        "value_list = [\"기사\", 200, 30, 5]\n",
        "character = {}\n",
        "\n",
        "for i in range(len(key_list)):\n",
        "  character[key_list[i]] = value_list[i]\n",
        "\n",
        "\n",
        "print(character)"
      ],
      "execution_count": 12,
      "outputs": [
        {
          "output_type": "stream",
          "text": [
            "{'name': '기사', 'hp': 200, 'mp': 30, 'level': 5}\n"
          ],
          "name": "stdout"
        }
      ]
    },
    {
      "cell_type": "code",
      "metadata": {
        "colab": {
          "base_uri": "https://localhost:8080/"
        },
        "id": "GeyCBzXu_4a8",
        "outputId": "d6d3a532-0214-4937-c68d-fcc431b8d3f3"
      },
      "source": [
        "limit = 10000\n",
        "i = 1\n",
        "\n",
        "sum_value = 0\n",
        "while sum_value < limit:\n",
        "  sum_value += i\n",
        "  i += 1\n",
        "\n",
        "print(\"{}를 더할 때 {}을 넘으며 그때의 값은 {}입니다.\".format(i, limit, sum_value))"
      ],
      "execution_count": 17,
      "outputs": [
        {
          "output_type": "stream",
          "text": [
            "142를 더할 때 10000을 넘으며 그때의 값은 10011입니다.\n"
          ],
          "name": "stdout"
        }
      ]
    },
    {
      "cell_type": "code",
      "metadata": {
        "colab": {
          "base_uri": "https://localhost:8080/"
        },
        "id": "0fD_sGSnEUAn",
        "outputId": "af018a85-a8e2-4062-8c8e-384660bc9616"
      },
      "source": [
        "max_value = 0\n",
        "a = 0 \n",
        "b = 0 \n",
        "\n",
        "\"\"\"\n",
        "for i in range(1, 100):\n",
        "  j = 100 - i\n",
        "\n",
        "  i * j\n",
        "  if i * j > max_value:\n",
        "    max_value =  i * j\n",
        "    a = i\n",
        "    b = j\n",
        "\n",
        "print(\"최대가 되는 경우: {} * {} = {}\".format(a, b, max_value))\n",
        "\"\"\"\n",
        "for i in range(1, 100// 2 + 1):\n",
        "  j = 100 - i\n",
        "\n",
        "  current = i * j\n",
        "  if max_value < current:\n",
        "    a = i\n",
        "    b = j\n",
        "    max_value = current\n",
        "\n",
        "print(\"최대가 되는 경우: {} * {} = {}\".format(a, b, max_value))\n"
      ],
      "execution_count": 1,
      "outputs": [
        {
          "output_type": "stream",
          "text": [
            "최대가 되는 경우: 50 * 50 = 2500\n"
          ],
          "name": "stdout"
        }
      ]
    },
    {
      "cell_type": "code",
      "metadata": {
        "colab": {
          "base_uri": "https://localhost:8080/"
        },
        "id": "7EsdwIFICaCF",
        "outputId": "9f74f4e7-c92b-43dc-f9c9-2d3c4a2740fe"
      },
      "source": [
        "#리스트에 적용할 수 있는 기본 함수\n",
        "numbers = [103, 52, 273, 32, 77]\n",
        "\n",
        "#min() 리스트 내부에서 최솟값을 찾음\n",
        "min(numbers)\n",
        "\n",
        "#max() 최댓값을 찾음\n",
        "max(numbers)\n",
        "\n",
        "#sum() 값을 모두 더함"
      ],
      "execution_count": 2,
      "outputs": [
        {
          "output_type": "execute_result",
          "data": {
            "text/plain": [
              "273"
            ]
          },
          "metadata": {
            "tags": []
          },
          "execution_count": 2
        }
      ]
    },
    {
      "cell_type": "code",
      "metadata": {
        "colab": {
          "base_uri": "https://localhost:8080/"
        },
        "id": "SZUWiFQ9C3we",
        "outputId": "7e86c061-9260-448e-d611-3dbaf4ee005c"
      },
      "source": [
        "#reversed() 함수로 리스트 뒤집기\n",
        "list_a = [1, 2, 3, 4, 5]\n",
        "list_reversed = reversed(list_a)\n",
        "\n",
        "print(\"# reversed() 함수\")\n",
        "print(\"reversed([1, 2, 3, 4,5]):\", list_reversed)\n",
        "print(\"list(reversed([1, 2, 3, 4,5])):\", list(list_reversed))\n",
        "print()\n",
        "\n",
        "print(\"# reversed() 함수와 반복문\")\n",
        "print(\"for i in reversed([1, 2, 3, 4, 5]):\")\n",
        "for i in reversed(list_a):\n",
        "  print(\"-\", i)"
      ],
      "execution_count": 4,
      "outputs": [
        {
          "output_type": "stream",
          "text": [
            "# reversed() 함수\n",
            "reversed([1, 2, 3, 4,5]): <list_reverseiterator object at 0x7f5ebe548b50>\n",
            "list(reversed([1, 2, 3, 4,5])): [5, 4, 3, 2, 1]\n",
            "\n",
            "# reversed() 함수와 반복문\n",
            "for i in reversed([1, 2, 3, 4, 5]):\n",
            "- 5\n",
            "- 4\n",
            "- 3\n",
            "- 2\n",
            "- 1\n"
          ],
          "name": "stdout"
        }
      ]
    },
    {
      "cell_type": "code",
      "metadata": {
        "colab": {
          "base_uri": "https://localhost:8080/"
        },
        "id": "-T8qD-XiJdG9",
        "outputId": "b72ea9e8-4275-45f3-fbcb-45dc0c41fe3e"
      },
      "source": [
        "#enumerate()함수와 리스트\n",
        "#변수 선언\n",
        "example_list = [\"요소A\", \"요소B\", \"요소C\"]\n",
        "\n",
        "#단순 출력\n",
        "print(\"# 단순 출력\")\n",
        "print(example_list)\n",
        "print()\n",
        "\n",
        "#enumerate() 함수 적용\n",
        "print(\"# enumerate() 함수 적용 출력\")\n",
        "print(enumerate(example_list))\n",
        "print()\n",
        "\n",
        "#list() 함수로 강제 변환해 출력\n",
        "print(\"# list() 함수로 강제 변환 출력\")\n",
        "print(list(enumerate(example_list)))\n",
        "print()\n",
        "\n",
        "#for 반복문과 enumerate() 함수 조합해서 사용\n",
        "print(\"# 반복문과 조합하기\")\n",
        "for i, value in enumerate(example_list):\n",
        "  print(\"{}번째 요소는 {}입니다.\".format(i, value))"
      ],
      "execution_count": 3,
      "outputs": [
        {
          "output_type": "stream",
          "text": [
            "# 단순 출력\n",
            "['요소A', '요소B', '요소C']\n",
            "\n",
            "# enumerate() 함수 적용 출력\n",
            "<enumerate object at 0x7f17e3388370>\n",
            "\n",
            "# list() 함수로 강제 변환 출력\n",
            "[(0, '요소A'), (1, '요소B'), (2, '요소C')]\n",
            "\n",
            "# 반복문과 조합하기\n",
            "0번째 요소는 요소A입니다.\n",
            "1번째 요소는 요소B입니다.\n",
            "2번째 요소는 요소C입니다.\n"
          ],
          "name": "stdout"
        }
      ]
    },
    {
      "cell_type": "code",
      "metadata": {
        "colab": {
          "base_uri": "https://localhost:8080/"
        },
        "id": "WjfTHi_hNt29",
        "outputId": "90582ffd-453d-4a51-8d42-bbe231894bb6"
      },
      "source": [
        "#item()함수\n",
        "#enumerate함수와 반복문을 조합해서 for i, value in enumerate(리스트) 형태로 반복문을 작성할 수 있었던 것 처럼\n",
        "#딕셔너리는 items() 함수와 함께 사용하면 키와 값을 조합해서 쉽게 반복문을 작성할 수 있습니다.\n",
        "\n",
        "#변수 선언\n",
        "example_dictionary = {\n",
        "    \"키A\": \"값A\",\n",
        "    \"키B\": \"값B\",\n",
        "    \"키C\": \"값C\"\n",
        "}\n",
        "\n",
        "#딕셔너리의 items() 함수 결과 출력하기\n",
        "print(\"# 딕셔너리의 items() 함수\")\n",
        "print(\"items():\", example_dictionary.items())\n",
        "print()\n",
        "\n",
        "#for 반복문과 items() 함수 조합해서 사용하기\n",
        "print(\"# 딕셔너리 items() 함수와 반복문 조합하기\")\n",
        "for key, element in example_dictionary.items():\n",
        "  print(\"dictionary[{}] = {}\".format(key, element))"
      ],
      "execution_count": 5,
      "outputs": [
        {
          "output_type": "stream",
          "text": [
            "# 딕셔너리의 items() 함수\n",
            "items(): dict_items([('키A', '값A'), ('키B', '값B'), ('키C', '값C')])\n",
            "\n",
            "# 딕셔너리 items() 함수와 반복문 조합하기\n",
            "dictionary[키A] = 값A\n",
            "dictionary[키B] = 값B\n",
            "dictionary[키C] = 값C\n"
          ],
          "name": "stdout"
        }
      ]
    },
    {
      "cell_type": "code",
      "metadata": {
        "colab": {
          "base_uri": "https://localhost:8080/"
        },
        "id": "oNx57xLkQVGn",
        "outputId": "b99bf8f8-c4be-49f4-dc18-3c4adbac2c39"
      },
      "source": [
        "#리스트 안에 for문 사용하기\n",
        "\n",
        "array = [i * i for i in range(0, 20, 2)] \n",
        "print(array)"
      ],
      "execution_count": 6,
      "outputs": [
        {
          "output_type": "stream",
          "text": [
            "[0, 4, 16, 36, 64, 100, 144, 196, 256, 324]\n"
          ],
          "name": "stdout"
        }
      ]
    },
    {
      "cell_type": "code",
      "metadata": {
        "colab": {
          "base_uri": "https://localhost:8080/"
        },
        "id": "BNYfRXQNQdz0",
        "outputId": "021e92d8-2bbe-48d1-95fb-26283a62a18f"
      },
      "source": [
        "#join()함수\n",
        "#join() 함수는 리스트의 요소를 문자열로 연결한다.\n",
        "\n",
        "print(\"::\".join(['1', '2', '3', '4', '5']))"
      ],
      "execution_count": 1,
      "outputs": [
        {
          "output_type": "stream",
          "text": [
            "1::2::3::4::5\n"
          ],
          "name": "stdout"
        }
      ]
    },
    {
      "cell_type": "code",
      "metadata": {
        "id": "Si0HGD7LHw33"
      },
      "source": [
        "#매개변수로 전달된 값들을 모두 곱해서 리턴하는 가변 매개변수 함수 만들기\n",
        "def mul(*values):\n",
        "  output = 1\n",
        "  for value in values:\n",
        "    output *= value\n",
        "  return output"
      ],
      "execution_count": 2,
      "outputs": []
    },
    {
      "cell_type": "code",
      "metadata": {
        "colab": {
          "base_uri": "https://localhost:8080/"
        },
        "id": "ZxE19VzGIjVt",
        "outputId": "70da07ef-40c3-46aa-c7ca-590c272a90dc"
      },
      "source": [
        "print(mul(5, 2,4, 1,4))"
      ],
      "execution_count": 5,
      "outputs": [
        {
          "output_type": "stream",
          "text": [
            "160\n"
          ],
          "name": "stdout"
        }
      ]
    },
    {
      "cell_type": "code",
      "metadata": {
        "colab": {
          "base_uri": "https://localhost:8080/"
        },
        "id": "nynoz46CKWfC",
        "outputId": "ca6ea5a7-3780-4c49-f9d9-e96a68badfd2"
      },
      "source": [
        "#재귀 함수를 사용해 팩토리얼 구하기\n",
        "#함수 선언\n",
        "def factorial(n):\n",
        "  #n이 0이라면 1을 리턴\n",
        "  if n == 0:\n",
        "    return 1\n",
        "  #n이 0이 아니라면 n * (n-1)!을 리턴\n",
        "  else:\n",
        "    return n * factorial(n-1)\n",
        "\n",
        "print(\"5!\", factorial(5))"
      ],
      "execution_count": 7,
      "outputs": [
        {
          "output_type": "stream",
          "text": [
            "5! 120\n"
          ],
          "name": "stdout"
        }
      ]
    },
    {
      "cell_type": "code",
      "metadata": {
        "colab": {
          "base_uri": "https://localhost:8080/"
        },
        "id": "uzmiJqivK1Zm",
        "outputId": "42c9a74f-f9d3-44fe-ce20-3421739b4d0a"
      },
      "source": [
        "#재귀 함수로 구현한 피보나치 수열\n",
        "def fibonacci(n):\n",
        "  if n == 1:\n",
        "    return 1\n",
        "  if n == 2:\n",
        "    return 2\n",
        "  else:\n",
        "    return fibonacci(n - 1) + fibonacci(n - 2)\n",
        "\n",
        "print(\"fibonaccii(5):\", fibonacci(5))"
      ],
      "execution_count": 15,
      "outputs": [
        {
          "output_type": "stream",
          "text": [
            "fibonaccii(5): 8\n"
          ],
          "name": "stdout"
        }
      ]
    },
    {
      "cell_type": "code",
      "metadata": {
        "colab": {
          "base_uri": "https://localhost:8080/"
        },
        "id": "LXvxxQhVK1dc",
        "outputId": "86146ee2-82da-4728-ae06-c9fb8c906a1a"
      },
      "source": [
        "#메모화, 메모 - 딕셔너리를 사용해서 한 번 계산 한 값을 저장하는 것\n",
        "#메모 변수 만들기\n",
        "dictionary = {\n",
        "    1: 1,\n",
        "    2: 2\n",
        "}\n",
        "\n",
        "def fibonacci(n):\n",
        "  if n in dictionary:\n",
        "    #메모가 되어 있으면 메모된 값을 리턴\n",
        "    return dictionary[n]\n",
        "  else:\n",
        "    #메모가 되어 있지 않으면 값을 구함\n",
        "    output = fibonacci(n - 1) + fibonacci(n - 2)\n",
        "    dictionary[n] = output\n",
        "    return output\n",
        "\n",
        "print(\"fibonacci(20):\", fibonacci(20))"
      ],
      "execution_count": 14,
      "outputs": [
        {
          "output_type": "stream",
          "text": [
            "fibonacci(20): 10946\n"
          ],
          "name": "stdout"
        }
      ]
    },
    {
      "cell_type": "code",
      "metadata": {
        "colab": {
          "base_uri": "https://localhost:8080/"
        },
        "id": "A0HJyiB6TUUH",
        "outputId": "28d38a70-79af-49dd-a5b3-4dadf5b919fa"
      },
      "source": [
        "def flatten(data):\n",
        "  output = []\n",
        "  for item in data:\n",
        "    if type(item) == list:\n",
        "      output += flatten(item)\n",
        "    else:\n",
        "      output.append(item)\n",
        "  return output\n",
        "\n",
        "example = [[1, 2, 3,], [4, [5, 6]], 7, [8, 9]]\n",
        "print(\"원본:\", example)\n",
        "print(\"변환:\", flatten(example))"
      ],
      "execution_count": 18,
      "outputs": [
        {
          "output_type": "stream",
          "text": [
            "원본: [[1, 2, 3], [4, [5, 6]], 7, [8, 9]]\n",
            "변환: [1, 2, 3, 4, 5, 6, 7, 8, 9]\n"
          ],
          "name": "stdout"
        }
      ]
    },
    {
      "cell_type": "code",
      "metadata": {
        "colab": {
          "base_uri": "https://localhost:8080/"
        },
        "id": "6wZ0e7RnTTQP",
        "outputId": "c56eca3b-5381-44fa-92d5-19d080969d80"
      },
      "source": [
        "앉힐수있는최소사람수 = 2\n",
        "앉힐수있는최대사람수 = 10\n",
        "전체사람의수 = 100\n",
        "memo = {}\n",
        "\n",
        "def 문제(남은사람수, 앉힌사람수):\n",
        "  key = str([남은사람수, 앉힌사람수])\n",
        "\n",
        "  #종료조건\n",
        "  if key in memo:\n",
        "    return memo[key]\n",
        "\n",
        "  if 남은사람수 <0:\n",
        "    return 0\n",
        "\n",
        "  if 남은사람수 == 0:\n",
        "    return 1\n",
        "\n",
        "  #w재귀 처리\n",
        "\n",
        "  count = 0\n",
        "  for i in range(앉힌사람수, 앉힐수있는최대사람수 + 1):\n",
        "    count += 문제(남은사람수 - i, i)\n",
        "\n",
        "  memo[key] = count\n",
        "  return count\n",
        "\n",
        "print(문제(전체사람의수, 앉힐수있는최소사람수)) "
      ],
      "execution_count": 19,
      "outputs": [
        {
          "output_type": "stream",
          "text": [
            "437420\n"
          ],
          "name": "stdout"
        }
      ]
    },
    {
      "cell_type": "code",
      "metadata": {
        "colab": {
          "base_uri": "https://localhost:8080/"
        },
        "id": "kysf4uUIWtE8",
        "outputId": "12751de6-12b0-46e8-8aeb-d2e44fb4ae53"
      },
      "source": [
        "#map() 함수와 filter() 함수\n",
        "#함수를 선언합니다.\n",
        "def power(item):\n",
        "  return item * item\n",
        "\n",
        "def under_3(item):\n",
        "  return item < 3\n",
        "\n",
        "#변수 선언\n",
        "list_input_a = [1, 2, 3, 4, 5]\n",
        "\n",
        "#map 함수 사용 - map(함수, 리스트) : 리스트의 요소를 함수에 넣고 리턴된 값으로 새로운 리스트를 구성해주는 함수 입니다.\n",
        "output_a = map(power, list_input_a)\n",
        "print(\"# map() 함수의 실행 결과\")\n",
        "print(\"map(power, list_input_a):\", output_a)\n",
        "print(\"map(power, list_input_a):\", list(output_a))\n",
        "print()\n",
        "\n",
        "#filter() 함수 사용 - filter(함수, 리스트) : 리스트의 요소를 함수에 넣고 리턴된 값이 True인 것으로, 새로운 리스트를 구성해주는 함수.\n",
        "output_b = filter(under_3, list_input_a)\n",
        "print(\"# filter() 함수의 실행 결과\")\n",
        "print(\"filter(under_3, list_input_a):\", output_b)\n",
        "print(\"filter(under_3, list_input_a):\", list(output_b))\n"
      ],
      "execution_count": 20,
      "outputs": [
        {
          "output_type": "stream",
          "text": [
            "# map() 함수의 실행 결과\n",
            "map(power, list_input_a): <map object at 0x7f07ff189e10>\n",
            "map(power, list_input_a): [1, 4, 9, 16, 25]\n",
            "\n",
            "# filter() 함수의 실행 결과\n",
            "filter(under_3, list_input_a): <filter object at 0x7f07ff104d50>\n",
            "filter(under_3, list_input_a): [1, 2]\n"
          ],
          "name": "stdout"
        }
      ]
    },
    {
      "cell_type": "code",
      "metadata": {
        "colab": {
          "base_uri": "https://localhost:8080/"
        },
        "id": "GhomKt_RpRZV",
        "outputId": "13b42b4a-3cb8-4cc6-e271-ff08e435e906"
      },
      "source": [
        "#lambda 매개변수: 리턴값\n",
        "#함수 선언\n",
        "power = lambda x: x * x\n",
        "under_3 = lambda x: x < 3\n",
        "\n",
        "#변수 선언\n",
        "list_input_a = [1, 2, 3, 4, 5]\n",
        "\n",
        "#map() 함수 사용\n",
        "output_a = map(power, list_input_a)\n",
        "print(\"# map() 함수의 실행결과\")\n",
        "print()"
      ],
      "execution_count": 21,
      "outputs": [
        {
          "output_type": "stream",
          "text": [
            "# map() 함수의 실행결과\n",
            "\n"
          ],
          "name": "stdout"
        }
      ]
    },
    {
      "cell_type": "code",
      "metadata": {
        "id": "6SVMecp_qTqV"
      },
      "source": [
        "#파일 처리\n",
        "\n",
        "#파일을 열 때는 open() 함수\n",
        "#파일 객체 = open(문자열: 파일경로, 문자열: 읽기 모드)\n",
        "#읽기 모드 : w(새로 쓰기 모드 write), a(뒤에 이어서 쓰기 모드 append), r(읽기 모드read)\n",
        "\n",
        "#파일을 닫을 때는 close() 함수\n",
        "#파일 객체.close()\n",
        "\n",
        "#파일 열기\n",
        "file = open(\"basic.txt\", \"w\")\n",
        "\n",
        "#파일 쓰기\n",
        "file.write(\"Hello!\")\n",
        "\n",
        "#파일 닫기\n",
        "file.close()"
      ],
      "execution_count": 22,
      "outputs": []
    }
  ]
}