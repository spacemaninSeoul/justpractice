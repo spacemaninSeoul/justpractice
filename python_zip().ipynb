{
  "nbformat": 4,
  "nbformat_minor": 0,
  "metadata": {
    "colab": {
      "name": "Untitled9.ipynb",
      "provenance": [],
      "authorship_tag": "ABX9TyP+6NR/Py0rK4NS9vObbCfj",
      "include_colab_link": true
    },
    "kernelspec": {
      "name": "python3",
      "display_name": "Python 3"
    },
    "language_info": {
      "name": "python"
    }
  },
  "cells": [
    {
      "cell_type": "markdown",
      "metadata": {
        "id": "view-in-github",
        "colab_type": "text"
      },
      "source": [
        "<a href=\"https://colab.research.google.com/github/spacemaninSeoul/justpractice/blob/main/python_zip().ipynb\" target=\"_parent\"><img src=\"https://colab.research.google.com/assets/colab-badge.svg\" alt=\"Open In Colab\"/></a>"
      ]
    },
    {
      "cell_type": "code",
      "metadata": {
        "id": "BahN4Rvc3Kgj",
        "colab": {
          "base_uri": "https://localhost:8080/"
        },
        "outputId": "c2498acc-3a9f-436a-cfc0-df039790eded"
      },
      "source": [
        "#1. 2개의 리스트를 zip 하여 dict 생성\n",
        "Location = ('US', 'Brazil', 'Russia', 'India', 'UK')\n",
        "Cases = (2638086, 1370488, 647849, 566840, 311965)\n",
        "Deaths = (128103, 58385, 9320, 16893, 43575)\n",
        "covid19_top5 = list(zip(Location, Cases, Deaths))\n",
        "\n",
        "for nation in covid19_top5:\n",
        "\tprint(nation)\n"
      ],
      "execution_count": null,
      "outputs": [
        {
          "output_type": "stream",
          "text": [
            "('US', 2638086, 128103)\n",
            "('Brazil', 1370488, 58385)\n",
            "('Russia', 647849, 9320)\n",
            "('India', 566840, 16893)\n",
            "('UK', 311965, 43575)\n"
          ],
          "name": "stdout"
        }
      ]
    },
    {
      "cell_type": "code",
      "metadata": {
        "id": "PJ1cfpNf3QXW"
      },
      "source": [
        ""
      ],
      "execution_count": null,
      "outputs": []
    },
    {
      "cell_type": "code",
      "metadata": {
        "id": "NpUSAYSA3LfJ",
        "colab": {
          "base_uri": "https://localhost:8080/"
        },
        "outputId": "329fae98-3a6f-44db-9143-eb26ce7daa4c"
      },
      "source": [
        "import pandas as pd\n",
        "df = pd.DataFrame(covid19_top5, columns = ['Nation', 'Cases', 'Deaths'])\n",
        "\n",
        "print(df)\n"
      ],
      "execution_count": null,
      "outputs": [
        {
          "output_type": "stream",
          "text": [
            "   Nation    Cases  Deaths\n",
            "0      US  2638086  128103\n",
            "1  Brazil  1370488   58385\n",
            "2  Russia   647849    9320\n",
            "3   India   566840   16893\n",
            "4      UK   311965   43575\n"
          ],
          "name": "stdout"
        }
      ]
    },
    {
      "cell_type": "code",
      "metadata": {
        "id": "FpRy3lPd3Nql",
        "colab": {
          "base_uri": "https://localhost:8080/"
        },
        "outputId": "5fa1176b-395e-4c8c-a9c2-488a45e76c89"
      },
      "source": [
        "#2. 여러 리스트 for loop 돌기\n",
        "fruit = ['apple', 'banana', 'orange']\n",
        "price = [500, 700, 200]\n",
        "\n",
        "for (f, p) in zip(fruit, price):\n",
        "\tprint (f, p)"
      ],
      "execution_count": null,
      "outputs": [
        {
          "output_type": "stream",
          "text": [
            "apple 500\n",
            "banana 700\n",
            "orange 200\n"
          ],
          "name": "stdout"
        }
      ]
    },
    {
      "cell_type": "code",
      "metadata": {
        "id": "SNnK9amy3Pfr",
        "colab": {
          "base_uri": "https://localhost:8080/"
        },
        "outputId": "68dce9e5-b7a8-4d6b-94a1-8683329a5f8e"
      },
      "source": [
        "xy = [(1, 2, 3), (11, 12, 13), (21, 22, 23), (31, 32, 33)]\n",
        "print(xy)\n"
      ],
      "execution_count": 4,
      "outputs": [
        {
          "output_type": "stream",
          "text": [
            "[(1, 2, 3), (11, 12, 13), (21, 22, 23), (31, 32, 33)]\n"
          ],
          "name": "stdout"
        }
      ]
    },
    {
      "cell_type": "code",
      "metadata": {
        "colab": {
          "base_uri": "https://localhost:8080/"
        },
        "id": "Wp5IdRxSBIt5",
        "outputId": "84181bd4-f90e-464a-d55d-293262aab31b"
      },
      "source": [
        "txy = list(zip(xy[0], xy[1], xy[2], xy[3]))\n",
        "print(txy)\n"
      ],
      "execution_count": 5,
      "outputs": [
        {
          "output_type": "stream",
          "text": [
            "[(1, 11, 21, 31), (2, 12, 22, 32), (3, 13, 23, 33)]\n"
          ],
          "name": "stdout"
        }
      ]
    },
    {
      "cell_type": "code",
      "metadata": {
        "id": "Q3aNyuEuBZYh"
      },
      "source": [
        ""
      ],
      "execution_count": null,
      "outputs": []
    }
  ]
}