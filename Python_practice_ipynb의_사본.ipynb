{
  "nbformat": 4,
  "nbformat_minor": 0,
  "metadata": {
    "colab": {
      "name": "Python practice.ipynb의 사본",
      "provenance": [],
      "collapsed_sections": [],
      "authorship_tag": "ABX9TyO7w1uN4vkITIM+lrnYxfj5",
      "include_colab_link": true
    },
    "kernelspec": {
      "name": "python3",
      "display_name": "Python 3"
    },
    "language_info": {
      "name": "python"
    }
  },
  "cells": [
    {
      "cell_type": "markdown",
      "metadata": {
        "id": "view-in-github",
        "colab_type": "text"
      },
      "source": [
        "<a href=\"https://colab.research.google.com/github/spacemaninSeoul/justpractice/blob/main/Python_practice_ipynb%EC%9D%98_%EC%82%AC%EB%B3%B8.ipynb\" target=\"_parent\"><img src=\"https://colab.research.google.com/assets/colab-badge.svg\" alt=\"Open In Colab\"/></a>"
      ]
    },
    {
      "cell_type": "code",
      "metadata": {
        "colab": {
          "base_uri": "https://localhost:8080/"
        },
        "id": "1UwauwuXNZgB",
        "outputId": "f716b9d4-3d9d-4428-d530-85f028aae4ee"
      },
      "source": [
        "#입력\n",
        "number = input(\"정수 입력> \")\n",
        "number = int(number)\n",
        "\n",
        "#양수 조건\n",
        "if number > 0:\n",
        "  print(\"양수입니다\")\n",
        "\n",
        "#음수 조건\n",
        "if number < 0:\n",
        "  print(\"음수입니다\")\n",
        "\n",
        "#0 조건\n",
        "if number == 0:\n",
        "  print(\"0입니다\")"
      ],
      "execution_count": null,
      "outputs": [
        {
          "output_type": "stream",
          "text": [
            "정수 입력> 4\n",
            "양수입니다\n"
          ],
          "name": "stdout"
        }
      ]
    },
    {
      "cell_type": "code",
      "metadata": {
        "colab": {
          "base_uri": "https://localhost:8080/"
        },
        "id": "2mLMhMcqOXSH",
        "outputId": "7c1da982-6343-42ff-9b25-a1c0f904f2e6"
      },
      "source": [
        "#날짜/시간과 관련된 기능 가져오기\n",
        "import datetime\n",
        "\n",
        "#현재 시간/날짜\n",
        "now = datetime.datetime.now()\n",
        "\n",
        "print(now.year, \"년\")\n",
        "\n",
        "print(\"{}년 {}월 {}일 {}시 {}분 {}초\".format(\n",
        "    now.year,\n",
        "    now.month,\n",
        "    now.day,\n",
        "    now.hour,\n",
        "    now.minute,\n",
        "    now.second\n",
        "))"
      ],
      "execution_count": null,
      "outputs": [
        {
          "output_type": "stream",
          "text": [
            "2021 년\n",
            "2021년 7월 25일 5시 59분 34초\n"
          ],
          "name": "stdout"
        }
      ]
    },
    {
      "cell_type": "code",
      "metadata": {
        "colab": {
          "base_uri": "https://localhost:8080/"
        },
        "id": "r5qvmUkfP06o",
        "outputId": "cb9990b1-ff20-42c9-e0b8-4466c580b98c"
      },
      "source": [
        "#in 문자열 연산자를 활용해서 짝수와 홀수 구분\n",
        "# 입력\n",
        "number = input(\"정수 입력> \")\n",
        "last_character = number[-1]\n",
        "\n",
        "#짝수조건\n",
        "if last_character in \"02468\":\n",
        "  print(\"짝수입니다\")\n",
        "\n",
        "#홀수조건\n",
        "if last_character in \"13579\":\n",
        "  print(\"홀수입니다\")\n"
      ],
      "execution_count": null,
      "outputs": [
        {
          "output_type": "stream",
          "text": [
            "정수 입력> 123\n",
            "홀수입니다\n"
          ],
          "name": "stdout"
        }
      ]
    },
    {
      "cell_type": "code",
      "metadata": {
        "colab": {
          "base_uri": "https://localhost:8080/"
        },
        "id": "-WLeZo1YdwL0",
        "outputId": "50df4724-92be-441f-b826-c846b70e17a4"
      },
      "source": [
        "#리스트 요소 제거. del과 pop\n",
        "list_a = [0, 1, 2, 3, 4 ,5]\n",
        "print(\"# 리스트의 요소 하나 제거하기\")\n",
        "\n",
        "#del\n",
        "del list_a[1]\n",
        "print(\"del list_a[1]:\", list_a)\n",
        "\n",
        "list_a.pop(2)\n",
        "print(\"pop(2):\", list_a)"
      ],
      "execution_count": null,
      "outputs": [
        {
          "output_type": "stream",
          "text": [
            "# 리스트의 요소 하나 제거하기\n",
            "del list_a[1]: [0, 2, 3, 4, 5]\n",
            "pop(2): [0, 2, 4, 5]\n"
          ],
          "name": "stdout"
        }
      ]
    },
    {
      "cell_type": "code",
      "metadata": {
        "colab": {
          "base_uri": "https://localhost:8080/"
        },
        "id": "8aljCdCaeZJb",
        "outputId": "0b118457-2d7c-4ab8-90a2-ce24f4aad129"
      },
      "source": [
        "#모두 제거하기 clear\n",
        "list_d = [0, 1, 2, 3, 4 ,5]\n",
        "list_d.clear()\n",
        "list_d"
      ],
      "execution_count": null,
      "outputs": [
        {
          "output_type": "execute_result",
          "data": {
            "text/plain": [
              "[]"
            ]
          },
          "metadata": {
            "tags": []
          },
          "execution_count": 8
        }
      ]
    },
    {
      "cell_type": "code",
      "metadata": {
        "colab": {
          "base_uri": "https://localhost:8080/"
        },
        "id": "OOKR8x10ejT7",
        "outputId": "61863180-00de-4aad-e643-d0aefc28184f"
      },
      "source": [
        "numbers = [273, 103, 5, 32, 65, 9, 72, 800, 99]\n",
        "\n",
        "for number in numbers:\n",
        "  if number > 99:\n",
        "    print(\"- 100 이상의 수:\", number)"
      ],
      "execution_count": null,
      "outputs": [
        {
          "output_type": "stream",
          "text": [
            "- 100 이상의 수: 273\n",
            "- 100 이상의 수: 103\n",
            "- 100 이상의 수: 800\n"
          ],
          "name": "stdout"
        }
      ]
    },
    {
      "cell_type": "code",
      "metadata": {
        "colab": {
          "base_uri": "https://localhost:8080/"
        },
        "id": "CB4ZSpkre7m9",
        "outputId": "bca4ca27-a0a2-4771-c21a-f58ec8f78939"
      },
      "source": [
        "numbers = [273, 103, 5, 32, 65, 9, 72, 800, 99]\n",
        "\n",
        "for number in numbers:\n",
        "  if number%2 == 0:\n",
        "    print(\"{}은 짝수입니다.\".format(number))\n",
        "  else:\n",
        "    print(\"{}은 홀수입니다.\".format(number))"
      ],
      "execution_count": null,
      "outputs": [
        {
          "output_type": "stream",
          "text": [
            "273은 홀수입니다.\n",
            "103은 홀수입니다.\n",
            "5은 홀수입니다.\n",
            "32은 짝수입니다.\n",
            "65은 홀수입니다.\n",
            "9은 홀수입니다.\n",
            "72은 짝수입니다.\n",
            "800은 짝수입니다.\n",
            "99은 홀수입니다.\n"
          ],
          "name": "stdout"
        }
      ]
    },
    {
      "cell_type": "code",
      "metadata": {
        "colab": {
          "base_uri": "https://localhost:8080/"
        },
        "id": "tVQy6HC1f9Bd",
        "outputId": "61f63073-9389-46d5-8ee3-4b1b9639fabb"
      },
      "source": [
        "numbers = [273, 103, 5, 32, 65, 9, 72, 800, 99]\n",
        "\n",
        "for number in numbers:\n",
        "  number = str(number)\n",
        "  print(\"{}는 {}자릿수 입니다\".format(number, len(number)))\n",
        "  number = float(number)"
      ],
      "execution_count": null,
      "outputs": [
        {
          "output_type": "stream",
          "text": [
            "273는 3자릿수 입니다\n",
            "103는 3자릿수 입니다\n",
            "5는 1자릿수 입니다\n",
            "32는 2자릿수 입니다\n",
            "65는 2자릿수 입니다\n",
            "9는 1자릿수 입니다\n",
            "72는 2자릿수 입니다\n",
            "800는 3자릿수 입니다\n",
            "99는 2자릿수 입니다\n"
          ],
          "name": "stdout"
        }
      ]
    },
    {
      "cell_type": "code",
      "metadata": {
        "colab": {
          "base_uri": "https://localhost:8080/"
        },
        "id": "ZEL0ZZ8dgqaK",
        "outputId": "3edb6e64-3590-4de6-df01-2d36fbd45b60"
      },
      "source": [
        "list_of_list = [\n",
        "  [1, 2, 3],\n",
        "  [4, 5, 6, 7],\n",
        "  [8, 9]\n",
        "]\n",
        "\n",
        "for i in list_of_list:\n",
        "  for j in (i):\n",
        "    print(j)"
      ],
      "execution_count": null,
      "outputs": [
        {
          "output_type": "stream",
          "text": [
            "1\n",
            "2\n",
            "3\n",
            "4\n",
            "5\n",
            "6\n",
            "7\n",
            "8\n",
            "9\n"
          ],
          "name": "stdout"
        }
      ]
    },
    {
      "cell_type": "code",
      "metadata": {
        "colab": {
          "base_uri": "https://localhost:8080/"
        },
        "id": "FTji1ZldhQcz",
        "outputId": "a82dc068-f332-4b6d-a628-cdaa9a5b64be"
      },
      "source": [
        "numbers = [1, 2, 3, 4, 5, 6, 7, 8 ,9]\n",
        "output = [[], [], []]\n",
        "\n",
        "for number in numbers:\n",
        "  output[(number+2) % 3 ].append(number)\n",
        "\n",
        "print(output)"
      ],
      "execution_count": null,
      "outputs": [
        {
          "output_type": "stream",
          "text": [
            "[[1, 4, 7], [2, 5, 8], [3, 6, 9]]\n"
          ],
          "name": "stdout"
        }
      ]
    },
    {
      "cell_type": "code",
      "metadata": {
        "colab": {
          "base_uri": "https://localhost:8080/"
        },
        "id": "2j_2F7n4iF4V",
        "outputId": "b7ac8a39-1ecd-48a5-c519-974af87fd3ea"
      },
      "source": [
        "#키가 존재하는지 확인하고 값에 접근하기\n",
        "dictionary = {\n",
        "    \"name\": \"7D 건조 망고\",\n",
        "    \"type\": \"당절임\",\n",
        "    \"ingredient\": [\"망고\", \"설탕\", \"메타중아황산나트륨\", \"치자황색소\"],\n",
        "    \"origin\" : \"필리핀\"\n",
        "}\n",
        "\n",
        "key = input(\"> 접근하고자 하는 키: \")\n",
        "\n",
        "if key in dictionary:\n",
        "  print(dictionary[key])\n",
        "else:\n",
        "  print(\"존재하지 않는 키에 접근하고 있습니다.\")"
      ],
      "execution_count": null,
      "outputs": [
        {
          "output_type": "stream",
          "text": [
            "> 접근하고자 하는 키: name\n",
            "7D 건조 망고\n"
          ],
          "name": "stdout"
        }
      ]
    },
    {
      "cell_type": "code",
      "metadata": {
        "colab": {
          "base_uri": "https://localhost:8080/"
        },
        "id": "AiP2fjAwt_ZG",
        "outputId": "28c65695-1ee4-4120-a960-ba5d6ebf7deb"
      },
      "source": [
        "#get() 함수\n",
        "dictionary = {\n",
        "    \"name\": \"7D 건조 망고\",\n",
        "    \"type\": \"당절임\",\n",
        "    \"ingredient\": [\"망고\", \"설탕\", \"메타중아황산나트륨\", \"치자황색소\"],\n",
        "    \"origin\" : \"필리핀\"\n",
        "}\n",
        "\n",
        "value = dictionary.get(\"name\")\n",
        "print(\"값:\", value)"
      ],
      "execution_count": null,
      "outputs": [
        {
          "output_type": "stream",
          "text": [
            "값: 7D 건조 망고\n"
          ],
          "name": "stdout"
        }
      ]
    },
    {
      "cell_type": "code",
      "metadata": {
        "colab": {
          "base_uri": "https://localhost:8080/"
        },
        "id": "XkmdpGJYuinx",
        "outputId": "12c5488e-c5e9-48fa-90c3-bee81efeb55c"
      },
      "source": [
        "pets = [\n",
        "        {\"name\": \"구름\", \"age\": 5},\n",
        "        {\"name\": \"초코\", \"age\": 3},\n",
        "        {\"name\": \"아지\", \"age\": 1},\n",
        "        {\"name\": \"호랑이\", \"age\": 1}\n",
        "]\n",
        "\n",
        "print(\"# 우리 동네 애완 동물들\")\n",
        "for key in pets:\n",
        "  print(key[\"name\"], \"{}살\".format(key[\"age\"]))"
      ],
      "execution_count": null,
      "outputs": [
        {
          "output_type": "stream",
          "text": [
            "# 우리 동네 애완 동물들\n",
            "구름 5살\n",
            "초코 3살\n",
            "아지 1살\n",
            "호랑이 1살\n"
          ],
          "name": "stdout"
        }
      ]
    },
    {
      "cell_type": "code",
      "metadata": {
        "colab": {
          "base_uri": "https://localhost:8080/"
        },
        "id": "QInpXGRUvsJ4",
        "outputId": "ab1b090d-f64a-4efa-f665-50b27714bc60"
      },
      "source": [
        "numbers = [1,2,6,8,4,3,2,1,9,5,4,9,7,2,1,3,5,4,8,9,7,2,3]\n",
        "counter = {}\n",
        "\n",
        "for number in numbers:\n",
        "  if number in counter:\n",
        "    counter[number] = counter[number] + 1\n",
        "  else:\n",
        "    counter[number] = 1\n",
        "\n",
        "print(counter)"
      ],
      "execution_count": null,
      "outputs": [
        {
          "output_type": "stream",
          "text": [
            "{1: 3, 2: 4, 6: 1, 8: 2, 4: 3, 3: 3, 9: 3, 5: 2, 7: 2}\n"
          ],
          "name": "stdout"
        }
      ]
    },
    {
      "cell_type": "code",
      "metadata": {
        "colab": {
          "base_uri": "https://localhost:8080/"
        },
        "id": "h1-6fUK8wYR9",
        "outputId": "6776754d-cfdf-4ebc-95cf-ad6ca28e05c3"
      },
      "source": [
        "character = {\n",
        "    \"name\": \"기사\",\n",
        "    \"level\": 12,\n",
        "    \"items\": {\n",
        "        \"sword\": \"불꽃의 검\",\n",
        "        \"armor\": \"풀플레이트\"\n",
        "    },\n",
        "    \"skill\": [\"베기\", \"세게 베기\", \"아주 세게 베기\"]\n",
        "}\n",
        "\n",
        "for key in character:\n",
        "  if type(character[key]) is dict:\n",
        "    for small_key in character[key]:\n",
        "      print(small_key, \":\", character[key][small_key])\n",
        "  elif type(character[key]) is list:\n",
        "    for item in character[key]:\n",
        "      print(key, \":\", item)\n",
        "  else:\n",
        "    print(key, \":\", character[key])"
      ],
      "execution_count": null,
      "outputs": [
        {
          "output_type": "stream",
          "text": [
            "name : 기사\n",
            "level : 12\n",
            "sword : 불꽃의 검\n",
            "armor : 풀플레이트\n",
            "skill : 베기\n",
            "skill : 세게 베기\n",
            "skill : 아주 세게 베기\n"
          ],
          "name": "stdout"
        }
      ]
    },
    {
      "cell_type": "code",
      "metadata": {
        "id": "kk1wVGtpxzgP"
      },
      "source": [
        ""
      ],
      "execution_count": null,
      "outputs": []
    }
  ]
}